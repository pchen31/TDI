{
 "cells": [
  {
   "cell_type": "markdown",
   "metadata": {},
   "source": [
    "# CYP TDI 30min assay - 3A4 2C8 2C9 2D6\n",
    "- The script is designed to process compound*30 (row 1~30) +  PosCtrl*1(row 31) + DMSO*1(row 32)"
   ]
  },
  {
   "cell_type": "markdown",
   "metadata": {},
   "source": [
    "# Load Packages"
   ]
  },
  {
   "cell_type": "code",
   "execution_count": 1,
   "metadata": {},
   "outputs": [],
   "source": [
    "pacman::p_load(pacman, dplyr, tidyr, stringr, readxl, writexl, outliers)"
   ]
  },
  {
   "cell_type": "markdown",
   "metadata": {},
   "source": [
    "# Import Rawdata\n",
    "### Raw data file format: “.xlsx”\n",
    "- It is crucial to have only one .xlsx file in the same directory as the script, so it will fetch the correct one;\n"
   ]
  },
  {
   "cell_type": "code",
   "execution_count": 2,
   "metadata": {},
   "outputs": [
    {
     "data": {
      "text/html": [
       "'./2020-06-22 CYP TDI 30min assay - 3A4 2C8 2C9 2D6 - Experiment.xlsx'"
      ],
      "text/latex": [
       "'./2020-06-22 CYP TDI 30min assay - 3A4 2C8 2C9 2D6 - Experiment.xlsx'"
      ],
      "text/markdown": [
       "'./2020-06-22 CYP TDI 30min assay - 3A4 2C8 2C9 2D6 - Experiment.xlsx'"
      ],
      "text/plain": [
       "[1] \"./2020-06-22 CYP TDI 30min assay - 3A4 2C8 2C9 2D6 - Experiment.xlsx\""
      ]
     },
     "metadata": {},
     "output_type": "display_data"
    }
   ],
   "source": [
    "# Rawdata file name\n",
    "Name_rawdata_file <- list.files(pattern = \"*.xlsx\", full.names = T)  \n",
    "Name_rawdata_file"
   ]
  },
  {
   "cell_type": "markdown",
   "metadata": {},
   "source": [
    "### Rawdata sheet names has to be:\n",
    "- 3A4_Midazolam_rawdata\n",
    "- 2C8_Paclitaxel_rawdata\n",
    "- 2C9_Diclofenac_rawdata\n",
    "- 2D6_Dextromethorphan_rawdata\n",
    "\n",
    "### Format of LCMS raw data: \"Sample Name\", \"Analyte Peak Area (counts)\" and \"IS Peak Area (counts)\"\n",
    "- Column name must be exact match. This is default name used in Analyst software so you shouldn’t have to change it.\n",
    "- Samples do not have to be in order. Processed data will be merged based on compound list set in experiment file. \n",
    "\n",
    "### Sample Name format: \"ID\"_\"(+/-)NADPH\"_\"Replicate\"\n",
    "- No special character or space is allowed in ID(e.g. A0305554 instead of A-0305554, PosCtrls instead of Pos Ctrls) to avoid the script splitting strings wrongly. \n",
    "- If running duplicate sets of 14 compounds, recommend to name compounds like \"Cpd01r1 & Cpd01r2\", or \"Cpd01a and Cpd01b\"."
   ]
  },
  {
   "cell_type": "code",
   "execution_count": 3,
   "metadata": {},
   "outputs": [
    {
     "data": {
      "text/html": [
       "<table>\n",
       "<thead><tr><th scope=col>Sample Name</th><th scope=col>Analyte Peak Area (counts)</th><th scope=col>IS Peak Area (counts)</th></tr></thead>\n",
       "<tbody>\n",
       "\t<tr><td>A0307356_(+)NADPH_A</td><td>557000             </td><td>2370000            </td></tr>\n",
       "\t<tr><td>A0307356_(+)NADPH_B</td><td>537000             </td><td>2270000            </td></tr>\n",
       "\t<tr><td>A0307356_(+)NADPH_C</td><td>578000             </td><td>2270000            </td></tr>\n",
       "\t<tr><td>A0307358_(+)NADPH_A</td><td>623000             </td><td>2190000            </td></tr>\n",
       "\t<tr><td>A0307358_(+)NADPH_B</td><td>637000             </td><td>2290000            </td></tr>\n",
       "\t<tr><td>A0307358_(+)NADPH_C</td><td>661000             </td><td>2270000            </td></tr>\n",
       "</tbody>\n",
       "</table>\n"
      ],
      "text/latex": [
       "\\begin{tabular}{r|lll}\n",
       " Sample Name & Analyte Peak Area (counts) & IS Peak Area (counts)\\\\\n",
       "\\hline\n",
       "\t A0307356\\_(+)NADPH\\_A & 557000                  & 2370000                \\\\\n",
       "\t A0307356\\_(+)NADPH\\_B & 537000                  & 2270000                \\\\\n",
       "\t A0307356\\_(+)NADPH\\_C & 578000                  & 2270000                \\\\\n",
       "\t A0307358\\_(+)NADPH\\_A & 623000                  & 2190000                \\\\\n",
       "\t A0307358\\_(+)NADPH\\_B & 637000                  & 2290000                \\\\\n",
       "\t A0307358\\_(+)NADPH\\_C & 661000                  & 2270000                \\\\\n",
       "\\end{tabular}\n"
      ],
      "text/markdown": [
       "\n",
       "| Sample Name | Analyte Peak Area (counts) | IS Peak Area (counts) |\n",
       "|---|---|---|\n",
       "| A0307356_(+)NADPH_A | 557000              | 2370000             |\n",
       "| A0307356_(+)NADPH_B | 537000              | 2270000             |\n",
       "| A0307356_(+)NADPH_C | 578000              | 2270000             |\n",
       "| A0307358_(+)NADPH_A | 623000              | 2190000             |\n",
       "| A0307358_(+)NADPH_B | 637000              | 2290000             |\n",
       "| A0307358_(+)NADPH_C | 661000              | 2270000             |\n",
       "\n"
      ],
      "text/plain": [
       "  Sample Name         Analyte Peak Area (counts) IS Peak Area (counts)\n",
       "1 A0307356_(+)NADPH_A 557000                     2370000              \n",
       "2 A0307356_(+)NADPH_B 537000                     2270000              \n",
       "3 A0307356_(+)NADPH_C 578000                     2270000              \n",
       "4 A0307358_(+)NADPH_A 623000                     2190000              \n",
       "5 A0307358_(+)NADPH_B 637000                     2290000              \n",
       "6 A0307358_(+)NADPH_C 661000                     2270000              "
      ]
     },
     "metadata": {},
     "output_type": "display_data"
    }
   ],
   "source": [
    "Rawdata_3A4 <- read_excel(Name_rawdata_file, sheet = \"3A4_Midazolam_rawdata\") \n",
    "head(Rawdata_3A4)"
   ]
  },
  {
   "cell_type": "code",
   "execution_count": 4,
   "metadata": {},
   "outputs": [
    {
     "data": {
      "text/html": [
       "<table>\n",
       "<thead><tr><th scope=col>Sample Name</th><th scope=col>Analyte Peak Area (counts)</th><th scope=col>IS Peak Area (counts)</th></tr></thead>\n",
       "<tbody>\n",
       "\t<tr><td>A0307356_(+)NADPH_A</td><td>46900              </td><td>2820000            </td></tr>\n",
       "\t<tr><td>A0307356_(+)NADPH_B</td><td>51700              </td><td>2640000            </td></tr>\n",
       "\t<tr><td>A0307356_(+)NADPH_C</td><td>54800              </td><td>2840000            </td></tr>\n",
       "\t<tr><td>A0307358_(+)NADPH_A</td><td>45400              </td><td>2530000            </td></tr>\n",
       "\t<tr><td>A0307358_(+)NADPH_B</td><td>43500              </td><td>2730000            </td></tr>\n",
       "\t<tr><td>A0307358_(+)NADPH_C</td><td>47300              </td><td>2730000            </td></tr>\n",
       "</tbody>\n",
       "</table>\n"
      ],
      "text/latex": [
       "\\begin{tabular}{r|lll}\n",
       " Sample Name & Analyte Peak Area (counts) & IS Peak Area (counts)\\\\\n",
       "\\hline\n",
       "\t A0307356\\_(+)NADPH\\_A & 46900                   & 2820000                \\\\\n",
       "\t A0307356\\_(+)NADPH\\_B & 51700                   & 2640000                \\\\\n",
       "\t A0307356\\_(+)NADPH\\_C & 54800                   & 2840000                \\\\\n",
       "\t A0307358\\_(+)NADPH\\_A & 45400                   & 2530000                \\\\\n",
       "\t A0307358\\_(+)NADPH\\_B & 43500                   & 2730000                \\\\\n",
       "\t A0307358\\_(+)NADPH\\_C & 47300                   & 2730000                \\\\\n",
       "\\end{tabular}\n"
      ],
      "text/markdown": [
       "\n",
       "| Sample Name | Analyte Peak Area (counts) | IS Peak Area (counts) |\n",
       "|---|---|---|\n",
       "| A0307356_(+)NADPH_A | 46900               | 2820000             |\n",
       "| A0307356_(+)NADPH_B | 51700               | 2640000             |\n",
       "| A0307356_(+)NADPH_C | 54800               | 2840000             |\n",
       "| A0307358_(+)NADPH_A | 45400               | 2530000             |\n",
       "| A0307358_(+)NADPH_B | 43500               | 2730000             |\n",
       "| A0307358_(+)NADPH_C | 47300               | 2730000             |\n",
       "\n"
      ],
      "text/plain": [
       "  Sample Name         Analyte Peak Area (counts) IS Peak Area (counts)\n",
       "1 A0307356_(+)NADPH_A 46900                      2820000              \n",
       "2 A0307356_(+)NADPH_B 51700                      2640000              \n",
       "3 A0307356_(+)NADPH_C 54800                      2840000              \n",
       "4 A0307358_(+)NADPH_A 45400                      2530000              \n",
       "5 A0307358_(+)NADPH_B 43500                      2730000              \n",
       "6 A0307358_(+)NADPH_C 47300                      2730000              "
      ]
     },
     "metadata": {},
     "output_type": "display_data"
    }
   ],
   "source": [
    "Rawdata_2C8 <- read_excel(Name_rawdata_file, sheet = \"2C8_Paclitaxel_rawdata\")\n",
    "head(Rawdata_2C8)"
   ]
  },
  {
   "cell_type": "code",
   "execution_count": 5,
   "metadata": {},
   "outputs": [
    {
     "data": {
      "text/html": [
       "<table>\n",
       "<thead><tr><th scope=col>Sample Name</th><th scope=col>Analyte Peak Area (counts)</th><th scope=col>IS Peak Area (counts)</th></tr></thead>\n",
       "<tbody>\n",
       "\t<tr><td>A0307356_(+)NADPH_A</td><td>1180000            </td><td>87500              </td></tr>\n",
       "\t<tr><td>A0307356_(+)NADPH_B</td><td>1180000            </td><td>87200              </td></tr>\n",
       "\t<tr><td>A0307356_(+)NADPH_C</td><td>1280000            </td><td>89300              </td></tr>\n",
       "\t<tr><td>A0307358_(+)NADPH_A</td><td> 881000            </td><td>91900              </td></tr>\n",
       "\t<tr><td>A0307358_(+)NADPH_B</td><td> 880000            </td><td>90400              </td></tr>\n",
       "\t<tr><td>A0307358_(+)NADPH_C</td><td> 925000            </td><td>90900              </td></tr>\n",
       "</tbody>\n",
       "</table>\n"
      ],
      "text/latex": [
       "\\begin{tabular}{r|lll}\n",
       " Sample Name & Analyte Peak Area (counts) & IS Peak Area (counts)\\\\\n",
       "\\hline\n",
       "\t A0307356\\_(+)NADPH\\_A & 1180000                 & 87500                  \\\\\n",
       "\t A0307356\\_(+)NADPH\\_B & 1180000                 & 87200                  \\\\\n",
       "\t A0307356\\_(+)NADPH\\_C & 1280000                 & 89300                  \\\\\n",
       "\t A0307358\\_(+)NADPH\\_A &  881000                 & 91900                  \\\\\n",
       "\t A0307358\\_(+)NADPH\\_B &  880000                 & 90400                  \\\\\n",
       "\t A0307358\\_(+)NADPH\\_C &  925000                 & 90900                  \\\\\n",
       "\\end{tabular}\n"
      ],
      "text/markdown": [
       "\n",
       "| Sample Name | Analyte Peak Area (counts) | IS Peak Area (counts) |\n",
       "|---|---|---|\n",
       "| A0307356_(+)NADPH_A | 1180000             | 87500               |\n",
       "| A0307356_(+)NADPH_B | 1180000             | 87200               |\n",
       "| A0307356_(+)NADPH_C | 1280000             | 89300               |\n",
       "| A0307358_(+)NADPH_A |  881000             | 91900               |\n",
       "| A0307358_(+)NADPH_B |  880000             | 90400               |\n",
       "| A0307358_(+)NADPH_C |  925000             | 90900               |\n",
       "\n"
      ],
      "text/plain": [
       "  Sample Name         Analyte Peak Area (counts) IS Peak Area (counts)\n",
       "1 A0307356_(+)NADPH_A 1180000                    87500                \n",
       "2 A0307356_(+)NADPH_B 1180000                    87200                \n",
       "3 A0307356_(+)NADPH_C 1280000                    89300                \n",
       "4 A0307358_(+)NADPH_A  881000                    91900                \n",
       "5 A0307358_(+)NADPH_B  880000                    90400                \n",
       "6 A0307358_(+)NADPH_C  925000                    90900                "
      ]
     },
     "metadata": {},
     "output_type": "display_data"
    }
   ],
   "source": [
    "Rawdata_2C9 <- read_excel(Name_rawdata_file, sheet = \"2C9_Diclofenac_rawdata\")\n",
    "head(Rawdata_2C9)"
   ]
  },
  {
   "cell_type": "code",
   "execution_count": 6,
   "metadata": {},
   "outputs": [
    {
     "data": {
      "text/html": [
       "<table>\n",
       "<thead><tr><th scope=col>Sample Name</th><th scope=col>Analyte Peak Area (counts)</th><th scope=col>IS Peak Area (counts)</th></tr></thead>\n",
       "<tbody>\n",
       "\t<tr><td>A0307356_(+)NADPH_A</td><td>168000             </td><td>1840000            </td></tr>\n",
       "\t<tr><td>A0307356_(+)NADPH_B</td><td>168000             </td><td>1770000            </td></tr>\n",
       "\t<tr><td>A0307356_(+)NADPH_C</td><td>177000             </td><td>1770000            </td></tr>\n",
       "\t<tr><td>A0307358_(+)NADPH_A</td><td>183000             </td><td>1730000            </td></tr>\n",
       "\t<tr><td>A0307358_(+)NADPH_B</td><td>190000             </td><td>1740000            </td></tr>\n",
       "\t<tr><td>A0307358_(+)NADPH_C</td><td>201000             </td><td>1750000            </td></tr>\n",
       "</tbody>\n",
       "</table>\n"
      ],
      "text/latex": [
       "\\begin{tabular}{r|lll}\n",
       " Sample Name & Analyte Peak Area (counts) & IS Peak Area (counts)\\\\\n",
       "\\hline\n",
       "\t A0307356\\_(+)NADPH\\_A & 168000                  & 1840000                \\\\\n",
       "\t A0307356\\_(+)NADPH\\_B & 168000                  & 1770000                \\\\\n",
       "\t A0307356\\_(+)NADPH\\_C & 177000                  & 1770000                \\\\\n",
       "\t A0307358\\_(+)NADPH\\_A & 183000                  & 1730000                \\\\\n",
       "\t A0307358\\_(+)NADPH\\_B & 190000                  & 1740000                \\\\\n",
       "\t A0307358\\_(+)NADPH\\_C & 201000                  & 1750000                \\\\\n",
       "\\end{tabular}\n"
      ],
      "text/markdown": [
       "\n",
       "| Sample Name | Analyte Peak Area (counts) | IS Peak Area (counts) |\n",
       "|---|---|---|\n",
       "| A0307356_(+)NADPH_A | 168000              | 1840000             |\n",
       "| A0307356_(+)NADPH_B | 168000              | 1770000             |\n",
       "| A0307356_(+)NADPH_C | 177000              | 1770000             |\n",
       "| A0307358_(+)NADPH_A | 183000              | 1730000             |\n",
       "| A0307358_(+)NADPH_B | 190000              | 1740000             |\n",
       "| A0307358_(+)NADPH_C | 201000              | 1750000             |\n",
       "\n"
      ],
      "text/plain": [
       "  Sample Name         Analyte Peak Area (counts) IS Peak Area (counts)\n",
       "1 A0307356_(+)NADPH_A 168000                     1840000              \n",
       "2 A0307356_(+)NADPH_B 168000                     1770000              \n",
       "3 A0307356_(+)NADPH_C 177000                     1770000              \n",
       "4 A0307358_(+)NADPH_A 183000                     1730000              \n",
       "5 A0307358_(+)NADPH_B 190000                     1740000              \n",
       "6 A0307358_(+)NADPH_C 201000                     1750000              "
      ]
     },
     "metadata": {},
     "output_type": "display_data"
    }
   ],
   "source": [
    "Rawdata_2D6 <- read_excel(Name_rawdata_file, sheet = \"2D6_Dextromethorphan_rawdata\")\n",
    "head(Rawdata_2D6)"
   ]
  },
  {
   "cell_type": "markdown",
   "metadata": {},
   "source": [
    "### Compound list is used in the script, please set it accordingly.\n",
    "- Sheet name has to be \"Compound List\".\n",
    "- No special character or space in Arcus ID column (e.g. A0305554 instead of A-0305554, PosCtrls instead of Pos Ctrls)\n",
    "- The script will cleanup dataframe to contain only row 8 to 39, column 2 to 5 in the template file."
   ]
  },
  {
   "cell_type": "code",
   "execution_count": 7,
   "metadata": {},
   "outputs": [
    {
     "name": "stderr",
     "output_type": "stream",
     "text": [
      "New names:\n",
      "* `` -> ...1\n",
      "* `` -> ...4\n",
      "* `` -> ...5\n",
      "* `` -> ...6\n",
      "* `` -> ...8\n",
      "* ...\n"
     ]
    },
    {
     "data": {
      "text/html": [
       "<table>\n",
       "<thead><tr><th scope=col>ID</th><th scope=col>Project</th><th scope=col>Batch</th><th scope=col>Concentration (uM)</th></tr></thead>\n",
       "<tbody>\n",
       "\t<tr><td>A0307356</td><td>NA      </td><td>1       </td><td>10      </td></tr>\n",
       "\t<tr><td>A0307358</td><td>NA      </td><td>1       </td><td>10      </td></tr>\n",
       "\t<tr><td>A0307375</td><td>NA      </td><td>1       </td><td>10      </td></tr>\n",
       "\t<tr><td>A0307377</td><td>NA      </td><td>1       </td><td>10      </td></tr>\n",
       "\t<tr><td>A0307386</td><td>NA      </td><td>1       </td><td>10      </td></tr>\n",
       "\t<tr><td>A0307387</td><td>NA      </td><td>1       </td><td>10      </td></tr>\n",
       "\t<tr><td>A0307388</td><td>NA      </td><td>1       </td><td>10      </td></tr>\n",
       "\t<tr><td>A0307389</td><td>NA      </td><td>1       </td><td>10      </td></tr>\n",
       "\t<tr><td>A0307391</td><td>NA      </td><td>1       </td><td>10      </td></tr>\n",
       "\t<tr><td>A0307396</td><td>NA      </td><td>1       </td><td>10      </td></tr>\n",
       "\t<tr><td>A0307397</td><td>NA      </td><td>1       </td><td>10      </td></tr>\n",
       "\t<tr><td>A0307398</td><td>NA      </td><td>1       </td><td>10      </td></tr>\n",
       "\t<tr><td>A0307408</td><td>NA      </td><td>1       </td><td>10      </td></tr>\n",
       "\t<tr><td>A0307414</td><td>NA      </td><td>1       </td><td>10      </td></tr>\n",
       "\t<tr><td>A0307419</td><td>NA      </td><td>1       </td><td>10      </td></tr>\n",
       "\t<tr><td>A0307429</td><td>NA      </td><td>1       </td><td>10      </td></tr>\n",
       "\t<tr><td>A0307431</td><td>NA      </td><td>1       </td><td>10      </td></tr>\n",
       "\t<tr><td>A0307434</td><td>NA      </td><td>1       </td><td>10      </td></tr>\n",
       "\t<tr><td>A0307442</td><td>NA      </td><td>1       </td><td>10      </td></tr>\n",
       "\t<tr><td>A0307448</td><td>NA      </td><td>1       </td><td>10      </td></tr>\n",
       "\t<tr><td>A0307450</td><td>NA      </td><td>1       </td><td>10      </td></tr>\n",
       "\t<tr><td>A0307452</td><td>NA      </td><td>1       </td><td>10      </td></tr>\n",
       "\t<tr><td>A0307455</td><td>NA      </td><td>1       </td><td>10      </td></tr>\n",
       "\t<tr><td>A0307458</td><td>NA      </td><td>1       </td><td>10      </td></tr>\n",
       "\t<tr><td>A0307459</td><td>NA      </td><td>1       </td><td>10      </td></tr>\n",
       "\t<tr><td>A0307462</td><td>NA      </td><td>1       </td><td>10      </td></tr>\n",
       "\t<tr><td>A0307463</td><td>NA      </td><td>1       </td><td>10      </td></tr>\n",
       "\t<tr><td>A0307467</td><td>NA      </td><td>1       </td><td>10      </td></tr>\n",
       "\t<tr><td>A0307468</td><td>NA      </td><td>1       </td><td>10      </td></tr>\n",
       "\t<tr><td>A0307469</td><td>NA      </td><td>1       </td><td>10      </td></tr>\n",
       "\t<tr><td>ABT     </td><td>PosCtrl </td><td>NA      </td><td>500     </td></tr>\n",
       "\t<tr><td>DMSO    </td><td>NA      </td><td>NA      </td><td>NA      </td></tr>\n",
       "</tbody>\n",
       "</table>\n"
      ],
      "text/latex": [
       "\\begin{tabular}{r|llll}\n",
       " ID & Project & Batch & Concentration (uM)\\\\\n",
       "\\hline\n",
       "\t A0307356 & NA       & 1        & 10      \\\\\n",
       "\t A0307358 & NA       & 1        & 10      \\\\\n",
       "\t A0307375 & NA       & 1        & 10      \\\\\n",
       "\t A0307377 & NA       & 1        & 10      \\\\\n",
       "\t A0307386 & NA       & 1        & 10      \\\\\n",
       "\t A0307387 & NA       & 1        & 10      \\\\\n",
       "\t A0307388 & NA       & 1        & 10      \\\\\n",
       "\t A0307389 & NA       & 1        & 10      \\\\\n",
       "\t A0307391 & NA       & 1        & 10      \\\\\n",
       "\t A0307396 & NA       & 1        & 10      \\\\\n",
       "\t A0307397 & NA       & 1        & 10      \\\\\n",
       "\t A0307398 & NA       & 1        & 10      \\\\\n",
       "\t A0307408 & NA       & 1        & 10      \\\\\n",
       "\t A0307414 & NA       & 1        & 10      \\\\\n",
       "\t A0307419 & NA       & 1        & 10      \\\\\n",
       "\t A0307429 & NA       & 1        & 10      \\\\\n",
       "\t A0307431 & NA       & 1        & 10      \\\\\n",
       "\t A0307434 & NA       & 1        & 10      \\\\\n",
       "\t A0307442 & NA       & 1        & 10      \\\\\n",
       "\t A0307448 & NA       & 1        & 10      \\\\\n",
       "\t A0307450 & NA       & 1        & 10      \\\\\n",
       "\t A0307452 & NA       & 1        & 10      \\\\\n",
       "\t A0307455 & NA       & 1        & 10      \\\\\n",
       "\t A0307458 & NA       & 1        & 10      \\\\\n",
       "\t A0307459 & NA       & 1        & 10      \\\\\n",
       "\t A0307462 & NA       & 1        & 10      \\\\\n",
       "\t A0307463 & NA       & 1        & 10      \\\\\n",
       "\t A0307467 & NA       & 1        & 10      \\\\\n",
       "\t A0307468 & NA       & 1        & 10      \\\\\n",
       "\t A0307469 & NA       & 1        & 10      \\\\\n",
       "\t ABT      & PosCtrl  & NA       & 500     \\\\\n",
       "\t DMSO     & NA       & NA       & NA      \\\\\n",
       "\\end{tabular}\n"
      ],
      "text/markdown": [
       "\n",
       "| ID | Project | Batch | Concentration (uM) |\n",
       "|---|---|---|---|\n",
       "| A0307356 | NA       | 1        | 10       |\n",
       "| A0307358 | NA       | 1        | 10       |\n",
       "| A0307375 | NA       | 1        | 10       |\n",
       "| A0307377 | NA       | 1        | 10       |\n",
       "| A0307386 | NA       | 1        | 10       |\n",
       "| A0307387 | NA       | 1        | 10       |\n",
       "| A0307388 | NA       | 1        | 10       |\n",
       "| A0307389 | NA       | 1        | 10       |\n",
       "| A0307391 | NA       | 1        | 10       |\n",
       "| A0307396 | NA       | 1        | 10       |\n",
       "| A0307397 | NA       | 1        | 10       |\n",
       "| A0307398 | NA       | 1        | 10       |\n",
       "| A0307408 | NA       | 1        | 10       |\n",
       "| A0307414 | NA       | 1        | 10       |\n",
       "| A0307419 | NA       | 1        | 10       |\n",
       "| A0307429 | NA       | 1        | 10       |\n",
       "| A0307431 | NA       | 1        | 10       |\n",
       "| A0307434 | NA       | 1        | 10       |\n",
       "| A0307442 | NA       | 1        | 10       |\n",
       "| A0307448 | NA       | 1        | 10       |\n",
       "| A0307450 | NA       | 1        | 10       |\n",
       "| A0307452 | NA       | 1        | 10       |\n",
       "| A0307455 | NA       | 1        | 10       |\n",
       "| A0307458 | NA       | 1        | 10       |\n",
       "| A0307459 | NA       | 1        | 10       |\n",
       "| A0307462 | NA       | 1        | 10       |\n",
       "| A0307463 | NA       | 1        | 10       |\n",
       "| A0307467 | NA       | 1        | 10       |\n",
       "| A0307468 | NA       | 1        | 10       |\n",
       "| A0307469 | NA       | 1        | 10       |\n",
       "| ABT      | PosCtrl  | NA       | 500      |\n",
       "| DMSO     | NA       | NA       | NA       |\n",
       "\n"
      ],
      "text/plain": [
       "   ID       Project Batch Concentration (uM)\n",
       "1  A0307356 NA      1     10                \n",
       "2  A0307358 NA      1     10                \n",
       "3  A0307375 NA      1     10                \n",
       "4  A0307377 NA      1     10                \n",
       "5  A0307386 NA      1     10                \n",
       "6  A0307387 NA      1     10                \n",
       "7  A0307388 NA      1     10                \n",
       "8  A0307389 NA      1     10                \n",
       "9  A0307391 NA      1     10                \n",
       "10 A0307396 NA      1     10                \n",
       "11 A0307397 NA      1     10                \n",
       "12 A0307398 NA      1     10                \n",
       "13 A0307408 NA      1     10                \n",
       "14 A0307414 NA      1     10                \n",
       "15 A0307419 NA      1     10                \n",
       "16 A0307429 NA      1     10                \n",
       "17 A0307431 NA      1     10                \n",
       "18 A0307434 NA      1     10                \n",
       "19 A0307442 NA      1     10                \n",
       "20 A0307448 NA      1     10                \n",
       "21 A0307450 NA      1     10                \n",
       "22 A0307452 NA      1     10                \n",
       "23 A0307455 NA      1     10                \n",
       "24 A0307458 NA      1     10                \n",
       "25 A0307459 NA      1     10                \n",
       "26 A0307462 NA      1     10                \n",
       "27 A0307463 NA      1     10                \n",
       "28 A0307467 NA      1     10                \n",
       "29 A0307468 NA      1     10                \n",
       "30 A0307469 NA      1     10                \n",
       "31 ABT      PosCtrl NA    500               \n",
       "32 DMSO     NA      NA    NA                "
      ]
     },
     "metadata": {},
     "output_type": "display_data"
    }
   ],
   "source": [
    "Df_Cpd_List <- read_excel(Name_rawdata_file, sheet = \"Compound List\")\n",
    "Df_Cpd_List <- Df_Cpd_List[7:38, 2:5]\n",
    "colnames(Df_Cpd_List) <- c(\"ID\", \"Project\", \"Batch\", \"Concentration (uM)\")\n",
    "Df_Cpd_List"
   ]
  },
  {
   "cell_type": "markdown",
   "metadata": {},
   "source": [
    "# Define Variables\n",
    "- Make sure the values are set to what you want for data processing."
   ]
  },
  {
   "cell_type": "code",
   "execution_count": 8,
   "metadata": {},
   "outputs": [],
   "source": [
    "Val_replicate <- 3                                          # 3 for triplicates\n",
    "Val_pct_CV_cutoff <- 20                                     # Cut-off value of %CV  \n",
    "Val_inc_time = 30                                           # Pre-incubation time"
   ]
  },
  {
   "cell_type": "markdown",
   "metadata": {},
   "source": [
    "# Prepare Df_Cpd_List to match summary file format "
   ]
  },
  {
   "cell_type": "code",
   "execution_count": 9,
   "metadata": {},
   "outputs": [
    {
     "data": {
      "text/html": [
       "<table>\n",
       "<thead><tr><th scope=col>ID</th><th scope=col>Batch</th><th scope=col>Project</th><th scope=col>Structure</th><th scope=col>Concentration (uM)</th><th scope=col>Pre-inc time (min)</th></tr></thead>\n",
       "<tbody>\n",
       "\t<tr><td>DMSO    </td><td>NA      </td><td>NA      </td><td>        </td><td>NA      </td><td>30      </td></tr>\n",
       "\t<tr><td>ABT     </td><td>NA      </td><td>PosCtrl </td><td>        </td><td>500     </td><td>30      </td></tr>\n",
       "\t<tr><td>A0307356</td><td>1       </td><td>NA      </td><td>        </td><td>10      </td><td>30      </td></tr>\n",
       "\t<tr><td>A0307358</td><td>1       </td><td>NA      </td><td>        </td><td>10      </td><td>30      </td></tr>\n",
       "\t<tr><td>A0307375</td><td>1       </td><td>NA      </td><td>        </td><td>10      </td><td>30      </td></tr>\n",
       "\t<tr><td>A0307377</td><td>1       </td><td>NA      </td><td>        </td><td>10      </td><td>30      </td></tr>\n",
       "</tbody>\n",
       "</table>\n"
      ],
      "text/latex": [
       "\\begin{tabular}{r|llllll}\n",
       " ID & Batch & Project & Structure & Concentration (uM) & Pre-inc time (min)\\\\\n",
       "\\hline\n",
       "\t DMSO     & NA       & NA       &          & NA       & 30      \\\\\n",
       "\t ABT      & NA       & PosCtrl  &          & 500      & 30      \\\\\n",
       "\t A0307356 & 1        & NA       &          & 10       & 30      \\\\\n",
       "\t A0307358 & 1        & NA       &          & 10       & 30      \\\\\n",
       "\t A0307375 & 1        & NA       &          & 10       & 30      \\\\\n",
       "\t A0307377 & 1        & NA       &          & 10       & 30      \\\\\n",
       "\\end{tabular}\n"
      ],
      "text/markdown": [
       "\n",
       "| ID | Batch | Project | Structure | Concentration (uM) | Pre-inc time (min) |\n",
       "|---|---|---|---|---|---|\n",
       "| DMSO     | NA       | NA       |          | NA       | 30       |\n",
       "| ABT      | NA       | PosCtrl  |          | 500      | 30       |\n",
       "| A0307356 | 1        | NA       |          | 10       | 30       |\n",
       "| A0307358 | 1        | NA       |          | 10       | 30       |\n",
       "| A0307375 | 1        | NA       |          | 10       | 30       |\n",
       "| A0307377 | 1        | NA       |          | 10       | 30       |\n",
       "\n"
      ],
      "text/plain": [
       "  ID       Batch Project Structure Concentration (uM) Pre-inc time (min)\n",
       "1 DMSO     NA    NA                NA                 30                \n",
       "2 ABT      NA    PosCtrl           500                30                \n",
       "3 A0307356 1     NA                10                 30                \n",
       "4 A0307358 1     NA                10                 30                \n",
       "5 A0307375 1     NA                10                 30                \n",
       "6 A0307377 1     NA                10                 30                "
      ]
     },
     "metadata": {},
     "output_type": "display_data"
    }
   ],
   "source": [
    "Df_Cpd_List <- mutate(Df_Cpd_List,\n",
    "                      \"Structure\" = \"\",\n",
    "                      \"Pre-inc time (min)\" = Val_inc_time)\n",
    "Df_Cpd_List <- Df_Cpd_List[c(32, 31, 1:30), c(1,3,2,5,4,6)]\n",
    "head(Df_Cpd_List)"
   ]
  },
  {
   "cell_type": "markdown",
   "metadata": {},
   "source": [
    "# Remove MeOH Wash Samples"
   ]
  },
  {
   "cell_type": "code",
   "execution_count": 10,
   "metadata": {},
   "outputs": [],
   "source": [
    "Rawdata_3A4 <- Rawdata_3A4[!grepl(\"MeOH\", Rawdata_3A4$`Sample Name`), ]                     \n",
    "Rawdata_2C8 <- Rawdata_2C8[!grepl(\"MeOH\", Rawdata_2C8$`Sample Name`), ]                     \n",
    "Rawdata_2C9 <- Rawdata_2C9[!grepl(\"MeOH\", Rawdata_2C9$`Sample Name`), ]     \n",
    "Rawdata_2D6 <- Rawdata_2D6[!grepl(\"MeOH\", Rawdata_2D6$`Sample Name`), ]  "
   ]
  },
  {
   "cell_type": "markdown",
   "metadata": {},
   "source": [
    "# Split strings in sample name"
   ]
  },
  {
   "cell_type": "code",
   "execution_count": 11,
   "metadata": {},
   "outputs": [
    {
     "data": {
      "text/html": [
       "<table>\n",
       "<thead><tr><th scope=col>ID</th><th scope=col>NADPH</th><th scope=col>Replicate</th><th scope=col>Analyte Peak Area (counts)</th><th scope=col>IS Peak Area (counts)</th></tr></thead>\n",
       "<tbody>\n",
       "\t<tr><td>A0307356</td><td>(+)NADPH</td><td>A       </td><td>557000  </td><td>2370000 </td></tr>\n",
       "\t<tr><td>A0307356</td><td>(+)NADPH</td><td>B       </td><td>537000  </td><td>2270000 </td></tr>\n",
       "\t<tr><td>A0307356</td><td>(+)NADPH</td><td>C       </td><td>578000  </td><td>2270000 </td></tr>\n",
       "\t<tr><td>A0307358</td><td>(+)NADPH</td><td>A       </td><td>623000  </td><td>2190000 </td></tr>\n",
       "\t<tr><td>A0307358</td><td>(+)NADPH</td><td>B       </td><td>637000  </td><td>2290000 </td></tr>\n",
       "\t<tr><td>A0307358</td><td>(+)NADPH</td><td>C       </td><td>661000  </td><td>2270000 </td></tr>\n",
       "</tbody>\n",
       "</table>\n"
      ],
      "text/latex": [
       "\\begin{tabular}{r|lllll}\n",
       " ID & NADPH & Replicate & Analyte Peak Area (counts) & IS Peak Area (counts)\\\\\n",
       "\\hline\n",
       "\t A0307356 & (+)NADPH & A        & 557000   & 2370000 \\\\\n",
       "\t A0307356 & (+)NADPH & B        & 537000   & 2270000 \\\\\n",
       "\t A0307356 & (+)NADPH & C        & 578000   & 2270000 \\\\\n",
       "\t A0307358 & (+)NADPH & A        & 623000   & 2190000 \\\\\n",
       "\t A0307358 & (+)NADPH & B        & 637000   & 2290000 \\\\\n",
       "\t A0307358 & (+)NADPH & C        & 661000   & 2270000 \\\\\n",
       "\\end{tabular}\n"
      ],
      "text/markdown": [
       "\n",
       "| ID | NADPH | Replicate | Analyte Peak Area (counts) | IS Peak Area (counts) |\n",
       "|---|---|---|---|---|\n",
       "| A0307356 | (+)NADPH | A        | 557000   | 2370000  |\n",
       "| A0307356 | (+)NADPH | B        | 537000   | 2270000  |\n",
       "| A0307356 | (+)NADPH | C        | 578000   | 2270000  |\n",
       "| A0307358 | (+)NADPH | A        | 623000   | 2190000  |\n",
       "| A0307358 | (+)NADPH | B        | 637000   | 2290000  |\n",
       "| A0307358 | (+)NADPH | C        | 661000   | 2270000  |\n",
       "\n"
      ],
      "text/plain": [
       "  ID       NADPH    Replicate Analyte Peak Area (counts) IS Peak Area (counts)\n",
       "1 A0307356 (+)NADPH A         557000                     2370000              \n",
       "2 A0307356 (+)NADPH B         537000                     2270000              \n",
       "3 A0307356 (+)NADPH C         578000                     2270000              \n",
       "4 A0307358 (+)NADPH A         623000                     2190000              \n",
       "5 A0307358 (+)NADPH B         637000                     2290000              \n",
       "6 A0307358 (+)NADPH C         661000                     2270000              "
      ]
     },
     "metadata": {},
     "output_type": "display_data"
    }
   ],
   "source": [
    "Rawdata_3A4 <- Rawdata_3A4 %>% separate(`Sample Name`, c(\"ID\", \"NADPH\", \"Replicate\"), \"_\")\n",
    "Rawdata_2C8 <- Rawdata_2C8 %>% separate(`Sample Name`, c(\"ID\", \"NADPH\", \"Replicate\"), \"_\")\n",
    "Rawdata_2C9 <- Rawdata_2C9 %>% separate(`Sample Name`, c(\"ID\", \"NADPH\", \"Replicate\"), \"_\")\n",
    "Rawdata_2D6 <- Rawdata_2D6 %>% separate(`Sample Name`, c(\"ID\", \"NADPH\", \"Replicate\"), \"_\")\n",
    "\n",
    "head(Rawdata_3A4)"
   ]
  },
  {
   "cell_type": "markdown",
   "metadata": {},
   "source": [
    "# Calculate PAR (Analyte to ISTD Peak Area Ratio)"
   ]
  },
  {
   "cell_type": "code",
   "execution_count": 12,
   "metadata": {},
   "outputs": [
    {
     "data": {
      "text/html": [
       "<table>\n",
       "<thead><tr><th scope=col>ID</th><th scope=col>NADPH</th><th scope=col>Replicate</th><th scope=col>Analyte Peak Area (counts)</th><th scope=col>IS Peak Area (counts)</th><th scope=col>PAR</th></tr></thead>\n",
       "<tbody>\n",
       "\t<tr><td>A0307356 </td><td>(+)NADPH </td><td>A        </td><td>557000   </td><td>2370000  </td><td>0.2350211</td></tr>\n",
       "\t<tr><td>A0307356 </td><td>(+)NADPH </td><td>B        </td><td>537000   </td><td>2270000  </td><td>0.2365639</td></tr>\n",
       "\t<tr><td>A0307356 </td><td>(+)NADPH </td><td>C        </td><td>578000   </td><td>2270000  </td><td>0.2546256</td></tr>\n",
       "\t<tr><td>A0307358 </td><td>(+)NADPH </td><td>A        </td><td>623000   </td><td>2190000  </td><td>0.2844749</td></tr>\n",
       "\t<tr><td>A0307358 </td><td>(+)NADPH </td><td>B        </td><td>637000   </td><td>2290000  </td><td>0.2781659</td></tr>\n",
       "\t<tr><td>A0307358 </td><td>(+)NADPH </td><td>C        </td><td>661000   </td><td>2270000  </td><td>0.2911894</td></tr>\n",
       "</tbody>\n",
       "</table>\n"
      ],
      "text/latex": [
       "\\begin{tabular}{r|llllll}\n",
       " ID & NADPH & Replicate & Analyte Peak Area (counts) & IS Peak Area (counts) & PAR\\\\\n",
       "\\hline\n",
       "\t A0307356  & (+)NADPH  & A         & 557000    & 2370000   & 0.2350211\\\\\n",
       "\t A0307356  & (+)NADPH  & B         & 537000    & 2270000   & 0.2365639\\\\\n",
       "\t A0307356  & (+)NADPH  & C         & 578000    & 2270000   & 0.2546256\\\\\n",
       "\t A0307358  & (+)NADPH  & A         & 623000    & 2190000   & 0.2844749\\\\\n",
       "\t A0307358  & (+)NADPH  & B         & 637000    & 2290000   & 0.2781659\\\\\n",
       "\t A0307358  & (+)NADPH  & C         & 661000    & 2270000   & 0.2911894\\\\\n",
       "\\end{tabular}\n"
      ],
      "text/markdown": [
       "\n",
       "| ID | NADPH | Replicate | Analyte Peak Area (counts) | IS Peak Area (counts) | PAR |\n",
       "|---|---|---|---|---|---|\n",
       "| A0307356  | (+)NADPH  | A         | 557000    | 2370000   | 0.2350211 |\n",
       "| A0307356  | (+)NADPH  | B         | 537000    | 2270000   | 0.2365639 |\n",
       "| A0307356  | (+)NADPH  | C         | 578000    | 2270000   | 0.2546256 |\n",
       "| A0307358  | (+)NADPH  | A         | 623000    | 2190000   | 0.2844749 |\n",
       "| A0307358  | (+)NADPH  | B         | 637000    | 2290000   | 0.2781659 |\n",
       "| A0307358  | (+)NADPH  | C         | 661000    | 2270000   | 0.2911894 |\n",
       "\n"
      ],
      "text/plain": [
       "  ID       NADPH    Replicate Analyte Peak Area (counts) IS Peak Area (counts)\n",
       "1 A0307356 (+)NADPH A         557000                     2370000              \n",
       "2 A0307356 (+)NADPH B         537000                     2270000              \n",
       "3 A0307356 (+)NADPH C         578000                     2270000              \n",
       "4 A0307358 (+)NADPH A         623000                     2190000              \n",
       "5 A0307358 (+)NADPH B         637000                     2290000              \n",
       "6 A0307358 (+)NADPH C         661000                     2270000              \n",
       "  PAR      \n",
       "1 0.2350211\n",
       "2 0.2365639\n",
       "3 0.2546256\n",
       "4 0.2844749\n",
       "5 0.2781659\n",
       "6 0.2911894"
      ]
     },
     "metadata": {},
     "output_type": "display_data"
    }
   ],
   "source": [
    "Rawdata_3A4 <- mutate(Rawdata_3A4, PAR = Rawdata_3A4$`Analyte Peak Area (counts)`/Rawdata_3A4$`IS Peak Area (counts)`)\n",
    "Rawdata_2C8 <- mutate(Rawdata_2C8, PAR = Rawdata_2C8$`Analyte Peak Area (counts)`/Rawdata_2C8$`IS Peak Area (counts)`)\n",
    "Rawdata_2C9 <- mutate(Rawdata_2C9, PAR = Rawdata_2C9$`Analyte Peak Area (counts)`/Rawdata_2C9$`IS Peak Area (counts)`)\n",
    "Rawdata_2D6 <- mutate(Rawdata_2D6, PAR = Rawdata_2D6$`Analyte Peak Area (counts)`/Rawdata_2D6$`IS Peak Area (counts)`)\n",
    "\n",
    "head(Rawdata_3A4)"
   ]
  },
  {
   "cell_type": "markdown",
   "metadata": {},
   "source": [
    "# Split (+) and (-) NADPH Samples into Different Dataframes"
   ]
  },
  {
   "cell_type": "code",
   "execution_count": 13,
   "metadata": {},
   "outputs": [
    {
     "data": {
      "text/html": [
       "<table>\n",
       "<thead><tr><th scope=col>ID</th><th scope=col>NADPH</th><th scope=col>Replicate</th><th scope=col>Analyte Peak Area (counts)</th><th scope=col>IS Peak Area (counts)</th><th scope=col>PAR</th></tr></thead>\n",
       "<tbody>\n",
       "\t<tr><td>A0307356 </td><td>(+)NADPH </td><td>A        </td><td>557000   </td><td>2370000  </td><td>0.2350211</td></tr>\n",
       "\t<tr><td>A0307356 </td><td>(+)NADPH </td><td>B        </td><td>537000   </td><td>2270000  </td><td>0.2365639</td></tr>\n",
       "\t<tr><td>A0307356 </td><td>(+)NADPH </td><td>C        </td><td>578000   </td><td>2270000  </td><td>0.2546256</td></tr>\n",
       "\t<tr><td>A0307358 </td><td>(+)NADPH </td><td>A        </td><td>623000   </td><td>2190000  </td><td>0.2844749</td></tr>\n",
       "\t<tr><td>A0307358 </td><td>(+)NADPH </td><td>B        </td><td>637000   </td><td>2290000  </td><td>0.2781659</td></tr>\n",
       "\t<tr><td>A0307358 </td><td>(+)NADPH </td><td>C        </td><td>661000   </td><td>2270000  </td><td>0.2911894</td></tr>\n",
       "</tbody>\n",
       "</table>\n"
      ],
      "text/latex": [
       "\\begin{tabular}{r|llllll}\n",
       " ID & NADPH & Replicate & Analyte Peak Area (counts) & IS Peak Area (counts) & PAR\\\\\n",
       "\\hline\n",
       "\t A0307356  & (+)NADPH  & A         & 557000    & 2370000   & 0.2350211\\\\\n",
       "\t A0307356  & (+)NADPH  & B         & 537000    & 2270000   & 0.2365639\\\\\n",
       "\t A0307356  & (+)NADPH  & C         & 578000    & 2270000   & 0.2546256\\\\\n",
       "\t A0307358  & (+)NADPH  & A         & 623000    & 2190000   & 0.2844749\\\\\n",
       "\t A0307358  & (+)NADPH  & B         & 637000    & 2290000   & 0.2781659\\\\\n",
       "\t A0307358  & (+)NADPH  & C         & 661000    & 2270000   & 0.2911894\\\\\n",
       "\\end{tabular}\n"
      ],
      "text/markdown": [
       "\n",
       "| ID | NADPH | Replicate | Analyte Peak Area (counts) | IS Peak Area (counts) | PAR |\n",
       "|---|---|---|---|---|---|\n",
       "| A0307356  | (+)NADPH  | A         | 557000    | 2370000   | 0.2350211 |\n",
       "| A0307356  | (+)NADPH  | B         | 537000    | 2270000   | 0.2365639 |\n",
       "| A0307356  | (+)NADPH  | C         | 578000    | 2270000   | 0.2546256 |\n",
       "| A0307358  | (+)NADPH  | A         | 623000    | 2190000   | 0.2844749 |\n",
       "| A0307358  | (+)NADPH  | B         | 637000    | 2290000   | 0.2781659 |\n",
       "| A0307358  | (+)NADPH  | C         | 661000    | 2270000   | 0.2911894 |\n",
       "\n"
      ],
      "text/plain": [
       "  ID       NADPH    Replicate Analyte Peak Area (counts) IS Peak Area (counts)\n",
       "1 A0307356 (+)NADPH A         557000                     2370000              \n",
       "2 A0307356 (+)NADPH B         537000                     2270000              \n",
       "3 A0307356 (+)NADPH C         578000                     2270000              \n",
       "4 A0307358 (+)NADPH A         623000                     2190000              \n",
       "5 A0307358 (+)NADPH B         637000                     2290000              \n",
       "6 A0307358 (+)NADPH C         661000                     2270000              \n",
       "  PAR      \n",
       "1 0.2350211\n",
       "2 0.2365639\n",
       "3 0.2546256\n",
       "4 0.2844749\n",
       "5 0.2781659\n",
       "6 0.2911894"
      ]
     },
     "metadata": {},
     "output_type": "display_data"
    },
    {
     "data": {
      "text/html": [
       "<table>\n",
       "<thead><tr><th scope=col>ID</th><th scope=col>NADPH</th><th scope=col>Replicate</th><th scope=col>Analyte Peak Area (counts)</th><th scope=col>IS Peak Area (counts)</th><th scope=col>PAR</th></tr></thead>\n",
       "<tbody>\n",
       "\t<tr><td>A0307356 </td><td>(-)NADPH </td><td>A        </td><td>801000   </td><td>2700000  </td><td>0.2966667</td></tr>\n",
       "\t<tr><td>A0307356 </td><td>(-)NADPH </td><td>B        </td><td>774000   </td><td>2580000  </td><td>0.3000000</td></tr>\n",
       "\t<tr><td>A0307356 </td><td>(-)NADPH </td><td>C        </td><td>820000   </td><td>2830000  </td><td>0.2897527</td></tr>\n",
       "\t<tr><td>A0307358 </td><td>(-)NADPH </td><td>A        </td><td>956000   </td><td>2630000  </td><td>0.3634981</td></tr>\n",
       "\t<tr><td>A0307358 </td><td>(-)NADPH </td><td>B        </td><td>919000   </td><td>2630000  </td><td>0.3494297</td></tr>\n",
       "\t<tr><td>A0307358 </td><td>(-)NADPH </td><td>C        </td><td>941000   </td><td>2610000  </td><td>0.3605364</td></tr>\n",
       "</tbody>\n",
       "</table>\n"
      ],
      "text/latex": [
       "\\begin{tabular}{r|llllll}\n",
       " ID & NADPH & Replicate & Analyte Peak Area (counts) & IS Peak Area (counts) & PAR\\\\\n",
       "\\hline\n",
       "\t A0307356  & (-)NADPH  & A         & 801000    & 2700000   & 0.2966667\\\\\n",
       "\t A0307356  & (-)NADPH  & B         & 774000    & 2580000   & 0.3000000\\\\\n",
       "\t A0307356  & (-)NADPH  & C         & 820000    & 2830000   & 0.2897527\\\\\n",
       "\t A0307358  & (-)NADPH  & A         & 956000    & 2630000   & 0.3634981\\\\\n",
       "\t A0307358  & (-)NADPH  & B         & 919000    & 2630000   & 0.3494297\\\\\n",
       "\t A0307358  & (-)NADPH  & C         & 941000    & 2610000   & 0.3605364\\\\\n",
       "\\end{tabular}\n"
      ],
      "text/markdown": [
       "\n",
       "| ID | NADPH | Replicate | Analyte Peak Area (counts) | IS Peak Area (counts) | PAR |\n",
       "|---|---|---|---|---|---|\n",
       "| A0307356  | (-)NADPH  | A         | 801000    | 2700000   | 0.2966667 |\n",
       "| A0307356  | (-)NADPH  | B         | 774000    | 2580000   | 0.3000000 |\n",
       "| A0307356  | (-)NADPH  | C         | 820000    | 2830000   | 0.2897527 |\n",
       "| A0307358  | (-)NADPH  | A         | 956000    | 2630000   | 0.3634981 |\n",
       "| A0307358  | (-)NADPH  | B         | 919000    | 2630000   | 0.3494297 |\n",
       "| A0307358  | (-)NADPH  | C         | 941000    | 2610000   | 0.3605364 |\n",
       "\n"
      ],
      "text/plain": [
       "  ID       NADPH    Replicate Analyte Peak Area (counts) IS Peak Area (counts)\n",
       "1 A0307356 (-)NADPH A         801000                     2700000              \n",
       "2 A0307356 (-)NADPH B         774000                     2580000              \n",
       "3 A0307356 (-)NADPH C         820000                     2830000              \n",
       "4 A0307358 (-)NADPH A         956000                     2630000              \n",
       "5 A0307358 (-)NADPH B         919000                     2630000              \n",
       "6 A0307358 (-)NADPH C         941000                     2610000              \n",
       "  PAR      \n",
       "1 0.2966667\n",
       "2 0.3000000\n",
       "3 0.2897527\n",
       "4 0.3634981\n",
       "5 0.3494297\n",
       "6 0.3605364"
      ]
     },
     "metadata": {},
     "output_type": "display_data"
    }
   ],
   "source": [
    "Rawdata_3A4_plus <- filter(Rawdata_3A4, Rawdata_3A4$NADPH == \"(+)NADPH\")\n",
    "Rawdata_3A4_minus <- filter(Rawdata_3A4, Rawdata_3A4$NADPH == \"(-)NADPH\")\n",
    "Rawdata_2C8_plus <- filter(Rawdata_2C8, Rawdata_2C8$NADPH == \"(+)NADPH\")\n",
    "Rawdata_2C8_minus <- filter(Rawdata_2C8, Rawdata_2C8$NADPH == \"(-)NADPH\")\n",
    "Rawdata_2C9_plus <- filter(Rawdata_2C9, Rawdata_2C9$NADPH == \"(+)NADPH\")\n",
    "Rawdata_2C9_minus <- filter(Rawdata_2C9, Rawdata_2C9$NADPH == \"(-)NADPH\")\n",
    "Rawdata_2D6_plus <- filter(Rawdata_2D6, Rawdata_2D6$NADPH == \"(+)NADPH\")\n",
    "Rawdata_2D6_minus <- filter(Rawdata_2D6, Rawdata_2D6$NADPH == \"(-)NADPH\")\n",
    "\n",
    "head(Rawdata_3A4_plus)\n",
    "head(Rawdata_3A4_minus)"
   ]
  },
  {
   "cell_type": "markdown",
   "metadata": {},
   "source": [
    "# Create functions \n",
    "### mean.rm.o(Data)\n",
    "- Calculate avg without the value most differing from mean"
   ]
  },
  {
   "cell_type": "code",
   "execution_count": 14,
   "metadata": {},
   "outputs": [
    {
     "name": "stdout",
     "output_type": "stream",
     "text": [
      "[1] 0.2844749 0.2781659 0.2911894\n"
     ]
    },
    {
     "data": {
      "text/html": [
       "0.284610084007384"
      ],
      "text/latex": [
       "0.284610084007384"
      ],
      "text/markdown": [
       "0.284610084007384"
      ],
      "text/plain": [
       "[1] 0.2846101"
      ]
     },
     "metadata": {},
     "output_type": "display_data"
    },
    {
     "data": {
      "text/html": [
       "0.281320412354689"
      ],
      "text/latex": [
       "0.281320412354689"
      ],
      "text/markdown": [
       "0.281320412354689"
      ],
      "text/plain": [
       "[1] 0.2813204"
      ]
     },
     "metadata": {},
     "output_type": "display_data"
    }
   ],
   "source": [
    "mean.rm.o <- function(Data) { zval_1 <- rm.outlier(Data)\n",
    "                              zval_2 <- mean(zval_1, na.rm = TRUE)\n",
    "                              return(zval_2)} \n",
    "\n",
    "print(Rawdata_3A4_plus$PAR[4:6])         # print PAR values of row 4 to 6 in dataframe \"Rawdata_3A4_plus\"\n",
    "mean(Rawdata_3A4_plus$PAR[4:6])          # average PAR of all three \n",
    "mean.rm.o(Rawdata_3A4_plus$PAR[4:6])     # average PAR without the one most differing from mean"
   ]
  },
  {
   "cell_type": "markdown",
   "metadata": {},
   "source": [
    "### pct_CT(Data)\n",
    "- Calculate % CV"
   ]
  },
  {
   "cell_type": "code",
   "execution_count": 15,
   "metadata": {},
   "outputs": [
    {
     "name": "stdout",
     "output_type": "stream",
     "text": [
      "[1] 0.2844749 0.2781659 0.2911894\n"
     ]
    },
    {
     "data": {
      "text/html": [
       "2.3"
      ],
      "text/latex": [
       "2.3"
      ],
      "text/markdown": [
       "2.3"
      ],
      "text/plain": [
       "[1] 2.3"
      ]
     },
     "metadata": {},
     "output_type": "display_data"
    }
   ],
   "source": [
    "pct_CV <- function(Data) { zval_1 <- mean(Data, na.rm = TRUE)\n",
    "                           zval_2 <- sd(Data, na.rm = TRUE)\n",
    "                           zval_3 <- zval_2/zval_1*100\n",
    "                           zval_4 <- round(zval_3, 1)\n",
    "                           return(zval_4)} \n",
    "\n",
    "print(Rawdata_3A4_plus$PAR[4:6])         # print PAR values of row 4 to 6 in dataframe \"Rawdata_3A4_plus\"\n",
    "pct_CV(Rawdata_3A4_plus$PAR[4:6])        # calculate % CV"
   ]
  },
  {
   "cell_type": "markdown",
   "metadata": {},
   "source": [
    "### pct_CV.rm.o(Data) \n",
    "- Calculate % CV without the value most differing from mean"
   ]
  },
  {
   "cell_type": "code",
   "execution_count": 16,
   "metadata": {},
   "outputs": [
    {
     "name": "stdout",
     "output_type": "stream",
     "text": [
      "[1] 0.2844749 0.2781659 0.2911894\n"
     ]
    },
    {
     "data": {
      "text/html": [
       "1.6"
      ],
      "text/latex": [
       "1.6"
      ],
      "text/markdown": [
       "1.6"
      ],
      "text/plain": [
       "[1] 1.6"
      ]
     },
     "metadata": {},
     "output_type": "display_data"
    }
   ],
   "source": [
    "pct_CV.rm.o <- function(Data) { zval_1 <- rm.outlier(Data)\n",
    "                                zval_2 <- mean(zval_1, na.rm = TRUE)\n",
    "                                zval_3 <- sd(zval_1, na.rm = TRUE)\n",
    "                                zval_4 <- zval_3/zval_2*100\n",
    "                                zval_5 <- round(zval_4, 1)\n",
    "                                return(zval_5)} \n",
    "\n",
    "print(Rawdata_3A4_plus$PAR[4:6])         # print PAR values of row 4 to 6 in dataframe \"Rawdata_3A4_plus\"\n",
    "pct_CV.rm.o(Rawdata_3A4_plus$PAR[4:6])   # calculate % CV without an outlier most differing from mean"
   ]
  },
  {
   "cell_type": "markdown",
   "metadata": {},
   "source": [
    "# Calculate % activity remaining for 3A4 (+) NADPH samples\n",
    "- Criteria to exclude an outlier in triplicate is set as %CV > 20 in this script (you can change cutoff value if needed); \n",
    "- Script will not return any value if %CV is still > cutoff value after exclude one outlier."
   ]
  },
  {
   "cell_type": "code",
   "execution_count": 17,
   "metadata": {},
   "outputs": [
    {
     "data": {
      "text/html": [
       "<table>\n",
       "<thead><tr><th scope=col>ID</th><th scope=col>PAR_avg</th><th scope=col>Pct_CV</th><th scope=col>PAR_avg_rm_o</th><th scope=col>Pct_CV_rm_o</th><th scope=col>PAR_avg (+)</th><th scope=col>PAR_avg_DMSO (+)</th><th scope=col>3A4 % Activity remaining (+)</th></tr></thead>\n",
       "<tbody>\n",
       "\t<tr><td>A0307356  </td><td>0.24207017</td><td> 4.5      </td><td>0.23579249</td><td>0.5       </td><td>0.24207017</td><td>0.36553   </td><td>66.2      </td></tr>\n",
       "\t<tr><td>A0307358  </td><td>0.28461008</td><td> 2.3      </td><td>0.28132041</td><td>1.6       </td><td>0.28461008</td><td>0.36553   </td><td>77.9      </td></tr>\n",
       "\t<tr><td>A0307375  </td><td>0.17915329</td><td> 7.5      </td><td>0.18669531</td><td>2.1       </td><td>0.17915329</td><td>0.36553   </td><td>49.0      </td></tr>\n",
       "\t<tr><td>A0307377  </td><td>0.04453165</td><td>18.5      </td><td>0.04902224</td><td>7.8       </td><td>0.04453165</td><td>0.36553   </td><td>12.2      </td></tr>\n",
       "\t<tr><td>A0307386  </td><td>0.11322466</td><td>20.2      </td><td>0.10020136</td><td>5.0       </td><td>0.10020136</td><td>0.36553   </td><td>27.4      </td></tr>\n",
       "\t<tr><td>A0307387  </td><td>0.14287037</td><td> 2.8      </td><td>0.14513889</td><td>0.7       </td><td>0.14287037</td><td>0.36553   </td><td>39.1      </td></tr>\n",
       "</tbody>\n",
       "</table>\n"
      ],
      "text/latex": [
       "\\begin{tabular}{r|llllllll}\n",
       " ID & PAR\\_avg & Pct\\_CV & PAR\\_avg\\_rm\\_o & Pct\\_CV\\_rm\\_o & PAR\\_avg (+) & PAR\\_avg\\_DMSO (+) & 3A4 \\% Activity remaining (+)\\\\\n",
       "\\hline\n",
       "\t A0307356   & 0.24207017 &  4.5       & 0.23579249 & 0.5        & 0.24207017 & 0.36553    & 66.2      \\\\\n",
       "\t A0307358   & 0.28461008 &  2.3       & 0.28132041 & 1.6        & 0.28461008 & 0.36553    & 77.9      \\\\\n",
       "\t A0307375   & 0.17915329 &  7.5       & 0.18669531 & 2.1        & 0.17915329 & 0.36553    & 49.0      \\\\\n",
       "\t A0307377   & 0.04453165 & 18.5       & 0.04902224 & 7.8        & 0.04453165 & 0.36553    & 12.2      \\\\\n",
       "\t A0307386   & 0.11322466 & 20.2       & 0.10020136 & 5.0        & 0.10020136 & 0.36553    & 27.4      \\\\\n",
       "\t A0307387   & 0.14287037 &  2.8       & 0.14513889 & 0.7        & 0.14287037 & 0.36553    & 39.1      \\\\\n",
       "\\end{tabular}\n"
      ],
      "text/markdown": [
       "\n",
       "| ID | PAR_avg | Pct_CV | PAR_avg_rm_o | Pct_CV_rm_o | PAR_avg (+) | PAR_avg_DMSO (+) | 3A4 % Activity remaining (+) |\n",
       "|---|---|---|---|---|---|---|---|\n",
       "| A0307356   | 0.24207017 |  4.5       | 0.23579249 | 0.5        | 0.24207017 | 0.36553    | 66.2       |\n",
       "| A0307358   | 0.28461008 |  2.3       | 0.28132041 | 1.6        | 0.28461008 | 0.36553    | 77.9       |\n",
       "| A0307375   | 0.17915329 |  7.5       | 0.18669531 | 2.1        | 0.17915329 | 0.36553    | 49.0       |\n",
       "| A0307377   | 0.04453165 | 18.5       | 0.04902224 | 7.8        | 0.04453165 | 0.36553    | 12.2       |\n",
       "| A0307386   | 0.11322466 | 20.2       | 0.10020136 | 5.0        | 0.10020136 | 0.36553    | 27.4       |\n",
       "| A0307387   | 0.14287037 |  2.8       | 0.14513889 | 0.7        | 0.14287037 | 0.36553    | 39.1       |\n",
       "\n"
      ],
      "text/plain": [
       "  ID       PAR_avg    Pct_CV PAR_avg_rm_o Pct_CV_rm_o PAR_avg (+)\n",
       "1 A0307356 0.24207017  4.5   0.23579249   0.5         0.24207017 \n",
       "2 A0307358 0.28461008  2.3   0.28132041   1.6         0.28461008 \n",
       "3 A0307375 0.17915329  7.5   0.18669531   2.1         0.17915329 \n",
       "4 A0307377 0.04453165 18.5   0.04902224   7.8         0.04453165 \n",
       "5 A0307386 0.11322466 20.2   0.10020136   5.0         0.10020136 \n",
       "6 A0307387 0.14287037  2.8   0.14513889   0.7         0.14287037 \n",
       "  PAR_avg_DMSO (+) 3A4 % Activity remaining (+)\n",
       "1 0.36553          66.2                        \n",
       "2 0.36553          77.9                        \n",
       "3 0.36553          49.0                        \n",
       "4 0.36553          12.2                        \n",
       "5 0.36553          27.4                        \n",
       "6 0.36553          39.1                        "
      ]
     },
     "metadata": {},
     "output_type": "display_data"
    }
   ],
   "source": [
    "# Calculate average and %CV with or without an outlier\n",
    "Df_CYP3A4_plus <- Rawdata_3A4_plus %>%                                                                   \n",
    "                  group_by(ID) %>%\n",
    "                  summarize(PAR_avg = mean(PAR, na.rm = TRUE),\n",
    "                            Pct_CV = pct_CV(PAR),\n",
    "                            PAR_avg_rm_o = mean.rm.o(PAR),\n",
    "                            Pct_CV_rm_o = pct_CV.rm.o(PAR))\n",
    "\n",
    "# Find the row number containing \"DMSO\" in sample name\n",
    "Val_row_num_DMSO <- str_which(Df_CYP3A4_plus$ID, \"DMSO\")                                         \n",
    "\n",
    "# If %CV > cutoff, use the average without outlier; return\"NA\" if %CV is still > cutoff after remove one outlier \n",
    "Df_CYP3A4_plus <- Df_CYP3A4_plus %>%                                                                           \n",
    "    mutate(\"PAR_avg (+)\" = ifelse(Df_CYP3A4_plus$Pct_CV < Val_pct_CV_cutoff, Df_CYP3A4_plus$PAR_avg, \n",
    "                              ifelse(Df_CYP3A4_plus$Pct_CV_rm_o < Val_pct_CV_cutoff, Df_CYP3A4_plus$PAR_avg_rm_o, NA)\n",
    "                                 )\n",
    "          )\n",
    "Df_CYP3A4_plus <- Df_CYP3A4_plus %>% \n",
    "    mutate(\"PAR_avg_DMSO (+)\" = Df_CYP3A4_plus$`PAR_avg (+)`[Val_row_num_DMSO])\n",
    "\n",
    "Df_CYP3A4_plus <- Df_CYP3A4_plus %>% \n",
    "    mutate(\"3A4 % Activity remaining (+)\" = round(Df_CYP3A4_plus$`PAR_avg (+)`/Df_CYP3A4_plus$`PAR_avg_DMSO (+)`*100, 1))\n",
    "\n",
    "head(Df_CYP3A4_plus)"
   ]
  },
  {
   "cell_type": "markdown",
   "metadata": {},
   "source": [
    "# Calculate % activity remaining for 3A4 (-) NADPH samples\n",
    "- Criteria to exclude an outlier in triplicate is set as %CV > 20 in this script (you can change cutoff value if needed); \n",
    "- Script will not return any value if %CV is still > cutoff value after exclude one outlier."
   ]
  },
  {
   "cell_type": "code",
   "execution_count": 18,
   "metadata": {},
   "outputs": [
    {
     "data": {
      "text/html": [
       "<table>\n",
       "<thead><tr><th scope=col>ID</th><th scope=col>PAR_avg</th><th scope=col>Pct_CV</th><th scope=col>PAR_avg_rm_o</th><th scope=col>Pct_CV_rm_o</th><th scope=col>PAR_avg (-)</th><th scope=col>PAR_avg_DMSO (-)</th><th scope=col>3A4 % Activity remaining (-)</th></tr></thead>\n",
       "<tbody>\n",
       "\t<tr><td>A0307356  </td><td>0.29547311</td><td>1.8       </td><td>0.29833333</td><td>0.8       </td><td>0.29547311</td><td>0.4024438 </td><td>73.4      </td></tr>\n",
       "\t<tr><td>A0307358  </td><td>0.35782139</td><td>2.1       </td><td>0.36201725</td><td>0.6       </td><td>0.35782139</td><td>0.4024438 </td><td>88.9      </td></tr>\n",
       "\t<tr><td>A0307375  </td><td>0.23096760</td><td>5.2       </td><td>0.23764990</td><td>1.8       </td><td>0.23096760</td><td>0.4024438 </td><td>57.4      </td></tr>\n",
       "\t<tr><td>A0307377  </td><td>0.08995185</td><td>7.5       </td><td>0.08609509</td><td>1.1       </td><td>0.08995185</td><td>0.4024438 </td><td>22.4      </td></tr>\n",
       "\t<tr><td>A0307386  </td><td>0.22312507</td><td>1.1       </td><td>0.22442641</td><td>0.4       </td><td>0.22312507</td><td>0.4024438 </td><td>55.4      </td></tr>\n",
       "\t<tr><td>A0307387  </td><td>0.32555893</td><td>1.4       </td><td>0.32804428</td><td>0.5       </td><td>0.32555893</td><td>0.4024438 </td><td>80.9      </td></tr>\n",
       "</tbody>\n",
       "</table>\n"
      ],
      "text/latex": [
       "\\begin{tabular}{r|llllllll}\n",
       " ID & PAR\\_avg & Pct\\_CV & PAR\\_avg\\_rm\\_o & Pct\\_CV\\_rm\\_o & PAR\\_avg (-) & PAR\\_avg\\_DMSO (-) & 3A4 \\% Activity remaining (-)\\\\\n",
       "\\hline\n",
       "\t A0307356   & 0.29547311 & 1.8        & 0.29833333 & 0.8        & 0.29547311 & 0.4024438  & 73.4      \\\\\n",
       "\t A0307358   & 0.35782139 & 2.1        & 0.36201725 & 0.6        & 0.35782139 & 0.4024438  & 88.9      \\\\\n",
       "\t A0307375   & 0.23096760 & 5.2        & 0.23764990 & 1.8        & 0.23096760 & 0.4024438  & 57.4      \\\\\n",
       "\t A0307377   & 0.08995185 & 7.5        & 0.08609509 & 1.1        & 0.08995185 & 0.4024438  & 22.4      \\\\\n",
       "\t A0307386   & 0.22312507 & 1.1        & 0.22442641 & 0.4        & 0.22312507 & 0.4024438  & 55.4      \\\\\n",
       "\t A0307387   & 0.32555893 & 1.4        & 0.32804428 & 0.5        & 0.32555893 & 0.4024438  & 80.9      \\\\\n",
       "\\end{tabular}\n"
      ],
      "text/markdown": [
       "\n",
       "| ID | PAR_avg | Pct_CV | PAR_avg_rm_o | Pct_CV_rm_o | PAR_avg (-) | PAR_avg_DMSO (-) | 3A4 % Activity remaining (-) |\n",
       "|---|---|---|---|---|---|---|---|\n",
       "| A0307356   | 0.29547311 | 1.8        | 0.29833333 | 0.8        | 0.29547311 | 0.4024438  | 73.4       |\n",
       "| A0307358   | 0.35782139 | 2.1        | 0.36201725 | 0.6        | 0.35782139 | 0.4024438  | 88.9       |\n",
       "| A0307375   | 0.23096760 | 5.2        | 0.23764990 | 1.8        | 0.23096760 | 0.4024438  | 57.4       |\n",
       "| A0307377   | 0.08995185 | 7.5        | 0.08609509 | 1.1        | 0.08995185 | 0.4024438  | 22.4       |\n",
       "| A0307386   | 0.22312507 | 1.1        | 0.22442641 | 0.4        | 0.22312507 | 0.4024438  | 55.4       |\n",
       "| A0307387   | 0.32555893 | 1.4        | 0.32804428 | 0.5        | 0.32555893 | 0.4024438  | 80.9       |\n",
       "\n"
      ],
      "text/plain": [
       "  ID       PAR_avg    Pct_CV PAR_avg_rm_o Pct_CV_rm_o PAR_avg (-)\n",
       "1 A0307356 0.29547311 1.8    0.29833333   0.8         0.29547311 \n",
       "2 A0307358 0.35782139 2.1    0.36201725   0.6         0.35782139 \n",
       "3 A0307375 0.23096760 5.2    0.23764990   1.8         0.23096760 \n",
       "4 A0307377 0.08995185 7.5    0.08609509   1.1         0.08995185 \n",
       "5 A0307386 0.22312507 1.1    0.22442641   0.4         0.22312507 \n",
       "6 A0307387 0.32555893 1.4    0.32804428   0.5         0.32555893 \n",
       "  PAR_avg_DMSO (-) 3A4 % Activity remaining (-)\n",
       "1 0.4024438        73.4                        \n",
       "2 0.4024438        88.9                        \n",
       "3 0.4024438        57.4                        \n",
       "4 0.4024438        22.4                        \n",
       "5 0.4024438        55.4                        \n",
       "6 0.4024438        80.9                        "
      ]
     },
     "metadata": {},
     "output_type": "display_data"
    }
   ],
   "source": [
    "# Calculate average and %CV with or without an outlier\n",
    "Df_CYP3A4_minus <- Rawdata_3A4_minus %>%                                                                   \n",
    "                   group_by(ID) %>%\n",
    "                   summarize(PAR_avg = mean(PAR, na.rm = TRUE),\n",
    "                             Pct_CV = pct_CV(PAR),\n",
    "                             PAR_avg_rm_o = mean.rm.o(PAR),\n",
    "                             Pct_CV_rm_o = pct_CV.rm.o(PAR))\n",
    "    \n",
    "# find the row number containing \"DMSO\" in sample name\n",
    "Val_row_num_DMSO <- str_which(Df_CYP3A4_minus$ID, \"DMSO\")                                         \n",
    "\n",
    "# If %CV > cutoff, use the average without outlier; return\"NA\" if %CV is still > cutoff after remove one outlier \n",
    "Df_CYP3A4_minus <- Df_CYP3A4_minus %>%                                                                           \n",
    "    mutate(\"PAR_avg (-)\" = ifelse(Df_CYP3A4_minus$Pct_CV < Val_pct_CV_cutoff, Df_CYP3A4_minus$PAR_avg, \n",
    "                            ifelse(Df_CYP3A4_minus$Pct_CV_rm_o < Val_pct_CV_cutoff, Df_CYP3A4_minus$PAR_avg_rm_o, NA)\n",
    "                                 )\n",
    "          )\n",
    "\n",
    "Df_CYP3A4_minus <- Df_CYP3A4_minus %>% \n",
    "    mutate(\"PAR_avg_DMSO (-)\" = Df_CYP3A4_minus$`PAR_avg (-)`[Val_row_num_DMSO])\n",
    "\n",
    "Df_CYP3A4_minus <- Df_CYP3A4_minus %>% \n",
    "    mutate(\"3A4 % Activity remaining (-)\" = round(Df_CYP3A4_minus$`PAR_avg (-)`/Df_CYP3A4_minus$`PAR_avg_DMSO (-)`*100, 1))\n",
    "\n",
    "head(Df_CYP3A4_minus)"
   ]
  },
  {
   "cell_type": "markdown",
   "metadata": {},
   "source": [
    "# Calculate % activity remaining for 2C8 (+) NADPH samples\n",
    "- Criteria to exclude an outlier in triplicate is set as %CV > 20 in this script (you can change cutoff value if needed); \n",
    "- Script will not return any value if %CV is still > cutoff value after exclude one outlier."
   ]
  },
  {
   "cell_type": "code",
   "execution_count": 19,
   "metadata": {},
   "outputs": [
    {
     "data": {
      "text/html": [
       "<table>\n",
       "<thead><tr><th scope=col>ID</th><th scope=col>PAR_avg</th><th scope=col>Pct_CV</th><th scope=col>PAR_avg_rm_o</th><th scope=col>Pct_CV_rm_o</th><th scope=col>PAR_avg (+)</th><th scope=col>PAR_avg_DMSO (+)</th><th scope=col>2C8 % Activity remaining (+)</th></tr></thead>\n",
       "<tbody>\n",
       "\t<tr><td>A0307356   </td><td>0.018503438</td><td>8.8        </td><td>0.019439554</td><td>1.0        </td><td>0.018503438</td><td>0.02088912 </td><td>88.6       </td></tr>\n",
       "\t<tr><td>A0307358   </td><td>0.017068246</td><td>6.0        </td><td>0.017635336</td><td>2.5        </td><td>0.017068246</td><td>0.02088912 </td><td>81.7       </td></tr>\n",
       "\t<tr><td>A0307375   </td><td>0.012048023</td><td>5.6        </td><td>0.011675482</td><td>2.6        </td><td>0.012048023</td><td>0.02088912 </td><td>57.7       </td></tr>\n",
       "\t<tr><td>A0307377   </td><td>0.008249985</td><td>4.9        </td><td>0.008455118</td><td>3.2        </td><td>0.008249985</td><td>0.02088912 </td><td>39.5       </td></tr>\n",
       "\t<tr><td>A0307386   </td><td>0.009744530</td><td>6.9        </td><td>0.009362249</td><td>1.7        </td><td>0.009744530</td><td>0.02088912 </td><td>46.6       </td></tr>\n",
       "\t<tr><td>A0307387   </td><td>0.012765002</td><td>3.6        </td><td>0.013027373</td><td>0.9        </td><td>0.012765002</td><td>0.02088912 </td><td>61.1       </td></tr>\n",
       "</tbody>\n",
       "</table>\n"
      ],
      "text/latex": [
       "\\begin{tabular}{r|llllllll}\n",
       " ID & PAR\\_avg & Pct\\_CV & PAR\\_avg\\_rm\\_o & Pct\\_CV\\_rm\\_o & PAR\\_avg (+) & PAR\\_avg\\_DMSO (+) & 2C8 \\% Activity remaining (+)\\\\\n",
       "\\hline\n",
       "\t A0307356    & 0.018503438 & 8.8         & 0.019439554 & 1.0         & 0.018503438 & 0.02088912  & 88.6       \\\\\n",
       "\t A0307358    & 0.017068246 & 6.0         & 0.017635336 & 2.5         & 0.017068246 & 0.02088912  & 81.7       \\\\\n",
       "\t A0307375    & 0.012048023 & 5.6         & 0.011675482 & 2.6         & 0.012048023 & 0.02088912  & 57.7       \\\\\n",
       "\t A0307377    & 0.008249985 & 4.9         & 0.008455118 & 3.2         & 0.008249985 & 0.02088912  & 39.5       \\\\\n",
       "\t A0307386    & 0.009744530 & 6.9         & 0.009362249 & 1.7         & 0.009744530 & 0.02088912  & 46.6       \\\\\n",
       "\t A0307387    & 0.012765002 & 3.6         & 0.013027373 & 0.9         & 0.012765002 & 0.02088912  & 61.1       \\\\\n",
       "\\end{tabular}\n"
      ],
      "text/markdown": [
       "\n",
       "| ID | PAR_avg | Pct_CV | PAR_avg_rm_o | Pct_CV_rm_o | PAR_avg (+) | PAR_avg_DMSO (+) | 2C8 % Activity remaining (+) |\n",
       "|---|---|---|---|---|---|---|---|\n",
       "| A0307356    | 0.018503438 | 8.8         | 0.019439554 | 1.0         | 0.018503438 | 0.02088912  | 88.6        |\n",
       "| A0307358    | 0.017068246 | 6.0         | 0.017635336 | 2.5         | 0.017068246 | 0.02088912  | 81.7        |\n",
       "| A0307375    | 0.012048023 | 5.6         | 0.011675482 | 2.6         | 0.012048023 | 0.02088912  | 57.7        |\n",
       "| A0307377    | 0.008249985 | 4.9         | 0.008455118 | 3.2         | 0.008249985 | 0.02088912  | 39.5        |\n",
       "| A0307386    | 0.009744530 | 6.9         | 0.009362249 | 1.7         | 0.009744530 | 0.02088912  | 46.6        |\n",
       "| A0307387    | 0.012765002 | 3.6         | 0.013027373 | 0.9         | 0.012765002 | 0.02088912  | 61.1        |\n",
       "\n"
      ],
      "text/plain": [
       "  ID       PAR_avg     Pct_CV PAR_avg_rm_o Pct_CV_rm_o PAR_avg (+)\n",
       "1 A0307356 0.018503438 8.8    0.019439554  1.0         0.018503438\n",
       "2 A0307358 0.017068246 6.0    0.017635336  2.5         0.017068246\n",
       "3 A0307375 0.012048023 5.6    0.011675482  2.6         0.012048023\n",
       "4 A0307377 0.008249985 4.9    0.008455118  3.2         0.008249985\n",
       "5 A0307386 0.009744530 6.9    0.009362249  1.7         0.009744530\n",
       "6 A0307387 0.012765002 3.6    0.013027373  0.9         0.012765002\n",
       "  PAR_avg_DMSO (+) 2C8 % Activity remaining (+)\n",
       "1 0.02088912       88.6                        \n",
       "2 0.02088912       81.7                        \n",
       "3 0.02088912       57.7                        \n",
       "4 0.02088912       39.5                        \n",
       "5 0.02088912       46.6                        \n",
       "6 0.02088912       61.1                        "
      ]
     },
     "metadata": {},
     "output_type": "display_data"
    }
   ],
   "source": [
    "# Calculate average and %CV with or without an outlier\n",
    "Df_CYP2C8_plus <- Rawdata_2C8_plus %>%                                                                   \n",
    "                  group_by(ID) %>%\n",
    "                  summarize(PAR_avg = mean(PAR, na.rm = TRUE),\n",
    "                            Pct_CV = pct_CV(PAR),\n",
    "                            PAR_avg_rm_o = mean.rm.o(PAR),\n",
    "                            Pct_CV_rm_o = pct_CV.rm.o(PAR))\n",
    "\n",
    "# find the row number containing \"DMSO\" in sample name\n",
    "Val_row_num_DMSO <- str_which(Df_CYP2C8_plus$ID, \"DMSO\")                                          \n",
    "\n",
    "# If %CV > cutoff, use the average without outlier; return\"NA\" if %CV is still > cutoff after remove one outlier \n",
    "Df_CYP2C8_plus <- Df_CYP2C8_plus %>%                                                                           \n",
    "    mutate(\"PAR_avg (+)\" = ifelse(Df_CYP2C8_plus$Pct_CV < Val_pct_CV_cutoff, Df_CYP2C8_plus$PAR_avg, \n",
    "                              ifelse(Df_CYP2C8_plus$Pct_CV_rm_o < Val_pct_CV_cutoff, Df_CYP2C8_plus$PAR_avg_rm_o, NA)\n",
    "                                 )\n",
    "          )\n",
    "\n",
    "Df_CYP2C8_plus <- Df_CYP2C8_plus %>% \n",
    "    mutate(\"PAR_avg_DMSO (+)\" = Df_CYP2C8_plus$`PAR_avg (+)`[Val_row_num_DMSO])\n",
    "\n",
    "Df_CYP2C8_plus <- Df_CYP2C8_plus %>% \n",
    "    mutate(\"2C8 % Activity remaining (+)\" = round(Df_CYP2C8_plus$`PAR_avg (+)`/Df_CYP2C8_plus$`PAR_avg_DMSO (+)`*100, 1))\n",
    "\n",
    "head(Df_CYP2C8_plus)"
   ]
  },
  {
   "cell_type": "markdown",
   "metadata": {},
   "source": [
    "# Calculate % activity remaining for 2C8 (-) NADPH samples\n",
    "- Criteria to exclude an outlier in triplicate is set as %CV > 20 in this script (you can change cutoff value if needed); \n",
    "- Script will not return any value if %CV is still > cutoff value after exclude one outlier."
   ]
  },
  {
   "cell_type": "code",
   "execution_count": 20,
   "metadata": {},
   "outputs": [
    {
     "data": {
      "text/html": [
       "<table>\n",
       "<thead><tr><th scope=col>ID</th><th scope=col>PAR_avg</th><th scope=col>Pct_CV</th><th scope=col>PAR_avg_rm_o</th><th scope=col>Pct_CV_rm_o</th><th scope=col>PAR_avg (-)</th><th scope=col>PAR_avg_DMSO (-)</th><th scope=col>2C8 % Activity remaining (-)</th></tr></thead>\n",
       "<tbody>\n",
       "\t<tr><td>A0307356  </td><td>0.02394984</td><td>5.2       </td><td>0.02462445</td><td>2.3       </td><td>0.02394984</td><td>0.02335181</td><td>102.6     </td></tr>\n",
       "\t<tr><td>A0307358  </td><td>0.02109719</td><td>7.8       </td><td>0.02021486</td><td>4.2       </td><td>0.02109719</td><td>0.02335181</td><td> 90.3     </td></tr>\n",
       "\t<tr><td>A0307375  </td><td>0.01732335</td><td>4.5       </td><td>0.01777190</td><td>0.1       </td><td>0.01732335</td><td>0.02335181</td><td> 74.2     </td></tr>\n",
       "\t<tr><td>A0307377  </td><td>0.01214074</td><td>4.9       </td><td>0.01245790</td><td>2.5       </td><td>0.01214074</td><td>0.02335181</td><td> 52.0     </td></tr>\n",
       "\t<tr><td>A0307386  </td><td>0.01460331</td><td>3.3       </td><td>0.01487748</td><td>0.3       </td><td>0.01460331</td><td>0.02335181</td><td> 62.5     </td></tr>\n",
       "\t<tr><td>A0307387  </td><td>0.01949653</td><td>6.6       </td><td>0.01877401</td><td>2.2       </td><td>0.01949653</td><td>0.02335181</td><td> 83.5     </td></tr>\n",
       "</tbody>\n",
       "</table>\n"
      ],
      "text/latex": [
       "\\begin{tabular}{r|llllllll}\n",
       " ID & PAR\\_avg & Pct\\_CV & PAR\\_avg\\_rm\\_o & Pct\\_CV\\_rm\\_o & PAR\\_avg (-) & PAR\\_avg\\_DMSO (-) & 2C8 \\% Activity remaining (-)\\\\\n",
       "\\hline\n",
       "\t A0307356   & 0.02394984 & 5.2        & 0.02462445 & 2.3        & 0.02394984 & 0.02335181 & 102.6     \\\\\n",
       "\t A0307358   & 0.02109719 & 7.8        & 0.02021486 & 4.2        & 0.02109719 & 0.02335181 &  90.3     \\\\\n",
       "\t A0307375   & 0.01732335 & 4.5        & 0.01777190 & 0.1        & 0.01732335 & 0.02335181 &  74.2     \\\\\n",
       "\t A0307377   & 0.01214074 & 4.9        & 0.01245790 & 2.5        & 0.01214074 & 0.02335181 &  52.0     \\\\\n",
       "\t A0307386   & 0.01460331 & 3.3        & 0.01487748 & 0.3        & 0.01460331 & 0.02335181 &  62.5     \\\\\n",
       "\t A0307387   & 0.01949653 & 6.6        & 0.01877401 & 2.2        & 0.01949653 & 0.02335181 &  83.5     \\\\\n",
       "\\end{tabular}\n"
      ],
      "text/markdown": [
       "\n",
       "| ID | PAR_avg | Pct_CV | PAR_avg_rm_o | Pct_CV_rm_o | PAR_avg (-) | PAR_avg_DMSO (-) | 2C8 % Activity remaining (-) |\n",
       "|---|---|---|---|---|---|---|---|\n",
       "| A0307356   | 0.02394984 | 5.2        | 0.02462445 | 2.3        | 0.02394984 | 0.02335181 | 102.6      |\n",
       "| A0307358   | 0.02109719 | 7.8        | 0.02021486 | 4.2        | 0.02109719 | 0.02335181 |  90.3      |\n",
       "| A0307375   | 0.01732335 | 4.5        | 0.01777190 | 0.1        | 0.01732335 | 0.02335181 |  74.2      |\n",
       "| A0307377   | 0.01214074 | 4.9        | 0.01245790 | 2.5        | 0.01214074 | 0.02335181 |  52.0      |\n",
       "| A0307386   | 0.01460331 | 3.3        | 0.01487748 | 0.3        | 0.01460331 | 0.02335181 |  62.5      |\n",
       "| A0307387   | 0.01949653 | 6.6        | 0.01877401 | 2.2        | 0.01949653 | 0.02335181 |  83.5      |\n",
       "\n"
      ],
      "text/plain": [
       "  ID       PAR_avg    Pct_CV PAR_avg_rm_o Pct_CV_rm_o PAR_avg (-)\n",
       "1 A0307356 0.02394984 5.2    0.02462445   2.3         0.02394984 \n",
       "2 A0307358 0.02109719 7.8    0.02021486   4.2         0.02109719 \n",
       "3 A0307375 0.01732335 4.5    0.01777190   0.1         0.01732335 \n",
       "4 A0307377 0.01214074 4.9    0.01245790   2.5         0.01214074 \n",
       "5 A0307386 0.01460331 3.3    0.01487748   0.3         0.01460331 \n",
       "6 A0307387 0.01949653 6.6    0.01877401   2.2         0.01949653 \n",
       "  PAR_avg_DMSO (-) 2C8 % Activity remaining (-)\n",
       "1 0.02335181       102.6                       \n",
       "2 0.02335181        90.3                       \n",
       "3 0.02335181        74.2                       \n",
       "4 0.02335181        52.0                       \n",
       "5 0.02335181        62.5                       \n",
       "6 0.02335181        83.5                       "
      ]
     },
     "metadata": {},
     "output_type": "display_data"
    }
   ],
   "source": [
    "# Calculate average and %CV with or without an outlier\n",
    "Df_CYP2C8_minus <- Rawdata_2C8_minus %>%                                                                   \n",
    "  group_by(ID) %>%\n",
    "  summarize(PAR_avg = mean(PAR, na.rm = TRUE),\n",
    "            Pct_CV = pct_CV(PAR),\n",
    "            PAR_avg_rm_o = mean.rm.o(PAR),\n",
    "            Pct_CV_rm_o = pct_CV.rm.o(PAR))\n",
    "\n",
    "# find the row number containing \"DMSO\" in sample name\n",
    "Val_row_num_DMSO <- str_which(Df_CYP2C8_minus$ID, \"DMSO\")                                         \n",
    "\n",
    "# If %CV > cutoff, use the average without outlier; return\"NA\" if %CV is still > cutoff after remove one outlier \n",
    "Df_CYP2C8_minus <- Df_CYP2C8_minus %>%                                                                           \n",
    "    mutate(\"PAR_avg (-)\" = ifelse(Df_CYP2C8_minus$Pct_CV < Val_pct_CV_cutoff, Df_CYP2C8_minus$PAR_avg, \n",
    "                              ifelse(Df_CYP2C8_minus$Pct_CV_rm_o < Val_pct_CV_cutoff, Df_CYP2C8_minus$PAR_avg_rm_o, NA)\n",
    "                                 )\n",
    "          )\n",
    "\n",
    "Df_CYP2C8_minus <- Df_CYP2C8_minus %>% \n",
    "    mutate(\"PAR_avg_DMSO (-)\" = Df_CYP2C8_minus$`PAR_avg (-)`[Val_row_num_DMSO])\n",
    "\n",
    "Df_CYP2C8_minus <- Df_CYP2C8_minus %>% \n",
    "    mutate(\"2C8 % Activity remaining (-)\" = round(Df_CYP2C8_minus$`PAR_avg (-)`/Df_CYP2C8_minus$`PAR_avg_DMSO (-)`*100, 1))\n",
    "\n",
    "head(Df_CYP2C8_minus)"
   ]
  },
  {
   "cell_type": "markdown",
   "metadata": {},
   "source": [
    "# Calculate % activity remaining for 2C9 (+) NADPH samples\n",
    "- Criteria to exclude an outlier in triplicate is set as %CV > 20 in this script (you can change cutoff value if needed); \n",
    "- Script will not return any value if %CV is still > cutoff value after exclude one outlier."
   ]
  },
  {
   "cell_type": "code",
   "execution_count": 21,
   "metadata": {},
   "outputs": [
    {
     "data": {
      "text/html": [
       "<table>\n",
       "<thead><tr><th scope=col>ID</th><th scope=col>PAR_avg</th><th scope=col>Pct_CV</th><th scope=col>PAR_avg_rm_o</th><th scope=col>Pct_CV_rm_o</th><th scope=col>PAR_avg (+)</th><th scope=col>PAR_avg_DMSO (+)</th><th scope=col>2C9 % Activity remaining (+)</th></tr></thead>\n",
       "<tbody>\n",
       "\t<tr><td>A0307356 </td><td>13.783844</td><td> 3.5     </td><td>13.508912</td><td>0.2      </td><td>13.783844</td><td>17.4633  </td><td>78.9     </td></tr>\n",
       "\t<tr><td>A0307358 </td><td> 9.832346</td><td> 3.1     </td><td> 9.660510</td><td>1.1      </td><td> 9.832346</td><td>17.4633  </td><td>56.3     </td></tr>\n",
       "\t<tr><td>A0307375 </td><td>13.019338</td><td> 3.6     </td><td>12.781219</td><td>2.3      </td><td>13.019338</td><td>17.4633  </td><td>74.6     </td></tr>\n",
       "\t<tr><td>A0307377 </td><td> 9.814369</td><td> 6.8     </td><td> 9.463312</td><td>4.1      </td><td> 9.814369</td><td>17.4633  </td><td>56.2     </td></tr>\n",
       "\t<tr><td>A0307386 </td><td>10.726333</td><td>16.1     </td><td> 9.793203</td><td>8.8      </td><td>10.726333</td><td>17.4633  </td><td>61.4     </td></tr>\n",
       "\t<tr><td>A0307387 </td><td>13.430065</td><td> 1.7     </td><td>13.303533</td><td>0.7      </td><td>13.430065</td><td>17.4633  </td><td>76.9     </td></tr>\n",
       "</tbody>\n",
       "</table>\n"
      ],
      "text/latex": [
       "\\begin{tabular}{r|llllllll}\n",
       " ID & PAR\\_avg & Pct\\_CV & PAR\\_avg\\_rm\\_o & Pct\\_CV\\_rm\\_o & PAR\\_avg (+) & PAR\\_avg\\_DMSO (+) & 2C9 \\% Activity remaining (+)\\\\\n",
       "\\hline\n",
       "\t A0307356  & 13.783844 &  3.5      & 13.508912 & 0.2       & 13.783844 & 17.4633   & 78.9     \\\\\n",
       "\t A0307358  &  9.832346 &  3.1      &  9.660510 & 1.1       &  9.832346 & 17.4633   & 56.3     \\\\\n",
       "\t A0307375  & 13.019338 &  3.6      & 12.781219 & 2.3       & 13.019338 & 17.4633   & 74.6     \\\\\n",
       "\t A0307377  &  9.814369 &  6.8      &  9.463312 & 4.1       &  9.814369 & 17.4633   & 56.2     \\\\\n",
       "\t A0307386  & 10.726333 & 16.1      &  9.793203 & 8.8       & 10.726333 & 17.4633   & 61.4     \\\\\n",
       "\t A0307387  & 13.430065 &  1.7      & 13.303533 & 0.7       & 13.430065 & 17.4633   & 76.9     \\\\\n",
       "\\end{tabular}\n"
      ],
      "text/markdown": [
       "\n",
       "| ID | PAR_avg | Pct_CV | PAR_avg_rm_o | Pct_CV_rm_o | PAR_avg (+) | PAR_avg_DMSO (+) | 2C9 % Activity remaining (+) |\n",
       "|---|---|---|---|---|---|---|---|\n",
       "| A0307356  | 13.783844 |  3.5      | 13.508912 | 0.2       | 13.783844 | 17.4633   | 78.9      |\n",
       "| A0307358  |  9.832346 |  3.1      |  9.660510 | 1.1       |  9.832346 | 17.4633   | 56.3      |\n",
       "| A0307375  | 13.019338 |  3.6      | 12.781219 | 2.3       | 13.019338 | 17.4633   | 74.6      |\n",
       "| A0307377  |  9.814369 |  6.8      |  9.463312 | 4.1       |  9.814369 | 17.4633   | 56.2      |\n",
       "| A0307386  | 10.726333 | 16.1      |  9.793203 | 8.8       | 10.726333 | 17.4633   | 61.4      |\n",
       "| A0307387  | 13.430065 |  1.7      | 13.303533 | 0.7       | 13.430065 | 17.4633   | 76.9      |\n",
       "\n"
      ],
      "text/plain": [
       "  ID       PAR_avg   Pct_CV PAR_avg_rm_o Pct_CV_rm_o PAR_avg (+)\n",
       "1 A0307356 13.783844  3.5   13.508912    0.2         13.783844  \n",
       "2 A0307358  9.832346  3.1    9.660510    1.1          9.832346  \n",
       "3 A0307375 13.019338  3.6   12.781219    2.3         13.019338  \n",
       "4 A0307377  9.814369  6.8    9.463312    4.1          9.814369  \n",
       "5 A0307386 10.726333 16.1    9.793203    8.8         10.726333  \n",
       "6 A0307387 13.430065  1.7   13.303533    0.7         13.430065  \n",
       "  PAR_avg_DMSO (+) 2C9 % Activity remaining (+)\n",
       "1 17.4633          78.9                        \n",
       "2 17.4633          56.3                        \n",
       "3 17.4633          74.6                        \n",
       "4 17.4633          56.2                        \n",
       "5 17.4633          61.4                        \n",
       "6 17.4633          76.9                        "
      ]
     },
     "metadata": {},
     "output_type": "display_data"
    }
   ],
   "source": [
    "# Calculate average and %CV with or without an outlier\n",
    "Df_CYP2C9_plus <- Rawdata_2C9_plus %>%                                                                   \n",
    "                  group_by(ID) %>%\n",
    "                  summarize(PAR_avg = mean(PAR, na.rm = TRUE),\n",
    "                            Pct_CV = pct_CV(PAR),\n",
    "                            PAR_avg_rm_o = mean.rm.o(PAR),\n",
    "                            Pct_CV_rm_o = pct_CV.rm.o(PAR))\n",
    "\n",
    "# find the row number containing \"DMSO\" in sample name\n",
    "Val_row_num_DMSO <- str_which(Df_CYP2C9_plus$ID, \"DMSO\")                                          \n",
    "\n",
    "# If %CV > cutoff, use the average without outlier; return\"NA\" if %CV is still > cutoff after remove one outlier \n",
    "Df_CYP2C9_plus <- Df_CYP2C9_plus %>%                                                                           \n",
    "    mutate(\"PAR_avg (+)\" = ifelse(Df_CYP2C9_plus$Pct_CV < Val_pct_CV_cutoff, Df_CYP2C9_plus$PAR_avg, \n",
    "                              ifelse(Df_CYP2C9_plus$Pct_CV_rm_o < Val_pct_CV_cutoff, Df_CYP2C9_plus$PAR_avg_rm_o, NA)\n",
    "                                 )\n",
    "          )\n",
    "\n",
    "Df_CYP2C9_plus <- Df_CYP2C9_plus %>% \n",
    "    mutate(\"PAR_avg_DMSO (+)\" = Df_CYP2C9_plus$`PAR_avg (+)`[Val_row_num_DMSO])\n",
    "\n",
    "Df_CYP2C9_plus <- Df_CYP2C9_plus %>% \n",
    "    mutate(\"2C9 % Activity remaining (+)\" = round(Df_CYP2C9_plus$`PAR_avg (+)`/Df_CYP2C9_plus$`PAR_avg_DMSO (+)`*100, 1))\n",
    "\n",
    "head(Df_CYP2C9_plus)"
   ]
  },
  {
   "cell_type": "markdown",
   "metadata": {},
   "source": [
    "# Calculate % activity remaining for 2C9 (-) NADPH samples\n",
    "- Criteria to exclude an outlier in triplicate is set as %CV > 20 in this script (you can change cutoff value if needed); \n",
    "- Script will not return any value if %CV is still > cutoff value after exclude one outlier."
   ]
  },
  {
   "cell_type": "code",
   "execution_count": 22,
   "metadata": {},
   "outputs": [
    {
     "data": {
      "text/html": [
       "<table>\n",
       "<thead><tr><th scope=col>ID</th><th scope=col>PAR_avg</th><th scope=col>Pct_CV</th><th scope=col>PAR_avg_rm_o</th><th scope=col>Pct_CV_rm_o</th><th scope=col>PAR_avg (-)</th><th scope=col>PAR_avg_DMSO (-)</th><th scope=col>2C9 % Activity remaining (-)</th></tr></thead>\n",
       "<tbody>\n",
       "\t<tr><td>A0307356</td><td>15.73439</td><td>3.2     </td><td>15.47075</td><td>1.8     </td><td>15.73439</td><td>17.28127</td><td>91.0    </td></tr>\n",
       "\t<tr><td>A0307358</td><td>12.34222</td><td>6.2     </td><td>11.89874</td><td>0.8     </td><td>12.34222</td><td>17.28127</td><td>71.4    </td></tr>\n",
       "\t<tr><td>A0307375</td><td>16.02312</td><td>4.3     </td><td>15.62298</td><td>0.3     </td><td>16.02312</td><td>17.28127</td><td>92.7    </td></tr>\n",
       "\t<tr><td>A0307377</td><td>12.36245</td><td>1.6     </td><td>12.47572</td><td>0.0     </td><td>12.36245</td><td>17.28127</td><td>71.5    </td></tr>\n",
       "\t<tr><td>A0307386</td><td>14.81482</td><td>3.3     </td><td>14.54897</td><td>1.6     </td><td>14.81482</td><td>17.28127</td><td>85.7    </td></tr>\n",
       "\t<tr><td>A0307387</td><td>17.08028</td><td>5.3     </td><td>16.56102</td><td>0.1     </td><td>17.08028</td><td>17.28127</td><td>98.8    </td></tr>\n",
       "</tbody>\n",
       "</table>\n"
      ],
      "text/latex": [
       "\\begin{tabular}{r|llllllll}\n",
       " ID & PAR\\_avg & Pct\\_CV & PAR\\_avg\\_rm\\_o & Pct\\_CV\\_rm\\_o & PAR\\_avg (-) & PAR\\_avg\\_DMSO (-) & 2C9 \\% Activity remaining (-)\\\\\n",
       "\\hline\n",
       "\t A0307356 & 15.73439 & 3.2      & 15.47075 & 1.8      & 15.73439 & 17.28127 & 91.0    \\\\\n",
       "\t A0307358 & 12.34222 & 6.2      & 11.89874 & 0.8      & 12.34222 & 17.28127 & 71.4    \\\\\n",
       "\t A0307375 & 16.02312 & 4.3      & 15.62298 & 0.3      & 16.02312 & 17.28127 & 92.7    \\\\\n",
       "\t A0307377 & 12.36245 & 1.6      & 12.47572 & 0.0      & 12.36245 & 17.28127 & 71.5    \\\\\n",
       "\t A0307386 & 14.81482 & 3.3      & 14.54897 & 1.6      & 14.81482 & 17.28127 & 85.7    \\\\\n",
       "\t A0307387 & 17.08028 & 5.3      & 16.56102 & 0.1      & 17.08028 & 17.28127 & 98.8    \\\\\n",
       "\\end{tabular}\n"
      ],
      "text/markdown": [
       "\n",
       "| ID | PAR_avg | Pct_CV | PAR_avg_rm_o | Pct_CV_rm_o | PAR_avg (-) | PAR_avg_DMSO (-) | 2C9 % Activity remaining (-) |\n",
       "|---|---|---|---|---|---|---|---|\n",
       "| A0307356 | 15.73439 | 3.2      | 15.47075 | 1.8      | 15.73439 | 17.28127 | 91.0     |\n",
       "| A0307358 | 12.34222 | 6.2      | 11.89874 | 0.8      | 12.34222 | 17.28127 | 71.4     |\n",
       "| A0307375 | 16.02312 | 4.3      | 15.62298 | 0.3      | 16.02312 | 17.28127 | 92.7     |\n",
       "| A0307377 | 12.36245 | 1.6      | 12.47572 | 0.0      | 12.36245 | 17.28127 | 71.5     |\n",
       "| A0307386 | 14.81482 | 3.3      | 14.54897 | 1.6      | 14.81482 | 17.28127 | 85.7     |\n",
       "| A0307387 | 17.08028 | 5.3      | 16.56102 | 0.1      | 17.08028 | 17.28127 | 98.8     |\n",
       "\n"
      ],
      "text/plain": [
       "  ID       PAR_avg  Pct_CV PAR_avg_rm_o Pct_CV_rm_o PAR_avg (-)\n",
       "1 A0307356 15.73439 3.2    15.47075     1.8         15.73439   \n",
       "2 A0307358 12.34222 6.2    11.89874     0.8         12.34222   \n",
       "3 A0307375 16.02312 4.3    15.62298     0.3         16.02312   \n",
       "4 A0307377 12.36245 1.6    12.47572     0.0         12.36245   \n",
       "5 A0307386 14.81482 3.3    14.54897     1.6         14.81482   \n",
       "6 A0307387 17.08028 5.3    16.56102     0.1         17.08028   \n",
       "  PAR_avg_DMSO (-) 2C9 % Activity remaining (-)\n",
       "1 17.28127         91.0                        \n",
       "2 17.28127         71.4                        \n",
       "3 17.28127         92.7                        \n",
       "4 17.28127         71.5                        \n",
       "5 17.28127         85.7                        \n",
       "6 17.28127         98.8                        "
      ]
     },
     "metadata": {},
     "output_type": "display_data"
    }
   ],
   "source": [
    "# Calculate average and %CV with or without an outlier\n",
    "Df_CYP2C9_minus <- Rawdata_2C9_minus %>%                                                                   \n",
    "                   group_by(ID) %>%\n",
    "                   summarize(PAR_avg = mean(PAR, na.rm = TRUE),\n",
    "                             Pct_CV = pct_CV(PAR),\n",
    "                             PAR_avg_rm_o = mean.rm.o(PAR),\n",
    "                             Pct_CV_rm_o = pct_CV.rm.o(PAR))\n",
    "\n",
    "# find the row number containing \"DMSO\" in sample name\n",
    "Val_row_num_DMSO <- str_which(Df_CYP2C9_minus$ID, \"DMSO\")                                        \n",
    "\n",
    "# If %CV > cutoff, use the average without outlier; return\"NA\" if %CV is still > cutoff after remove one outlier \n",
    "Df_CYP2C9_minus <- Df_CYP2C9_minus %>%                                                                           \n",
    "    mutate(\"PAR_avg (-)\" = ifelse(Df_CYP2C9_minus$Pct_CV < Val_pct_CV_cutoff, Df_CYP2C9_minus$PAR_avg, \n",
    "                              ifelse(Df_CYP2C9_minus$Pct_CV_rm_o < Val_pct_CV_cutoff, Df_CYP2C9_minus$PAR_avg_rm_o, NA)\n",
    "                                 )\n",
    "          )\n",
    "\n",
    "Df_CYP2C9_minus <- Df_CYP2C9_minus %>% \n",
    "    mutate(\"PAR_avg_DMSO (-)\" = Df_CYP2C9_minus$`PAR_avg (-)`[Val_row_num_DMSO])\n",
    "\n",
    "Df_CYP2C9_minus <- Df_CYP2C9_minus %>% \n",
    "    mutate(\"2C9 % Activity remaining (-)\" = round(Df_CYP2C9_minus$`PAR_avg (-)`/Df_CYP2C9_minus$`PAR_avg_DMSO (-)`*100, 1))\n",
    "\n",
    "head(Df_CYP2C9_minus)"
   ]
  },
  {
   "cell_type": "markdown",
   "metadata": {},
   "source": [
    "# Calculate % activity remaining for 2D6 (+) NADPH samples\n",
    "- Criteria to exclude an outlier in triplicate is set as %CV > 20 in this script (you can change cutoff value if needed); \n",
    "- Script will not return any value if %CV is still > cutoff value after exclude one outlier."
   ]
  },
  {
   "cell_type": "code",
   "execution_count": 23,
   "metadata": {},
   "outputs": [
    {
     "data": {
      "text/html": [
       "<table>\n",
       "<thead><tr><th scope=col>ID</th><th scope=col>PAR_avg</th><th scope=col>Pct_CV</th><th scope=col>PAR_avg_rm_o</th><th scope=col>Pct_CV_rm_o</th><th scope=col>PAR_avg (+)</th><th scope=col>PAR_avg_DMSO (+)</th><th scope=col>2D6 % Activity remaining (+)</th></tr></thead>\n",
       "<tbody>\n",
       "\t<tr><td>A0307356  </td><td>0.09540653</td><td> 4.6      </td><td>0.09310980</td><td>2.7       </td><td>0.09540653</td><td>0.1339678 </td><td>71.2      </td></tr>\n",
       "\t<tr><td>A0307358  </td><td>0.10994430</td><td> 4.2      </td><td>0.10748787</td><td>2.2       </td><td>0.10994430</td><td>0.1339678 </td><td>82.1      </td></tr>\n",
       "\t<tr><td>A0307375  </td><td>0.08580762</td><td> 4.7      </td><td>0.08354097</td><td>1.7       </td><td>0.08580762</td><td>0.1339678 </td><td>64.1      </td></tr>\n",
       "\t<tr><td>A0307377  </td><td>0.09742425</td><td> 5.3      </td><td>0.09443183</td><td>0.3       </td><td>0.09742425</td><td>0.1339678 </td><td>72.7      </td></tr>\n",
       "\t<tr><td>A0307386  </td><td>0.10157407</td><td>12.2      </td><td>0.10861111</td><td>3.3       </td><td>0.10157407</td><td>0.1339678 </td><td>75.8      </td></tr>\n",
       "\t<tr><td>A0307387  </td><td>0.11163025</td><td> 3.6      </td><td>0.11383427</td><td>1.7       </td><td>0.11163025</td><td>0.1339678 </td><td>83.3      </td></tr>\n",
       "</tbody>\n",
       "</table>\n"
      ],
      "text/latex": [
       "\\begin{tabular}{r|llllllll}\n",
       " ID & PAR\\_avg & Pct\\_CV & PAR\\_avg\\_rm\\_o & Pct\\_CV\\_rm\\_o & PAR\\_avg (+) & PAR\\_avg\\_DMSO (+) & 2D6 \\% Activity remaining (+)\\\\\n",
       "\\hline\n",
       "\t A0307356   & 0.09540653 &  4.6       & 0.09310980 & 2.7        & 0.09540653 & 0.1339678  & 71.2      \\\\\n",
       "\t A0307358   & 0.10994430 &  4.2       & 0.10748787 & 2.2        & 0.10994430 & 0.1339678  & 82.1      \\\\\n",
       "\t A0307375   & 0.08580762 &  4.7       & 0.08354097 & 1.7        & 0.08580762 & 0.1339678  & 64.1      \\\\\n",
       "\t A0307377   & 0.09742425 &  5.3       & 0.09443183 & 0.3        & 0.09742425 & 0.1339678  & 72.7      \\\\\n",
       "\t A0307386   & 0.10157407 & 12.2       & 0.10861111 & 3.3        & 0.10157407 & 0.1339678  & 75.8      \\\\\n",
       "\t A0307387   & 0.11163025 &  3.6       & 0.11383427 & 1.7        & 0.11163025 & 0.1339678  & 83.3      \\\\\n",
       "\\end{tabular}\n"
      ],
      "text/markdown": [
       "\n",
       "| ID | PAR_avg | Pct_CV | PAR_avg_rm_o | Pct_CV_rm_o | PAR_avg (+) | PAR_avg_DMSO (+) | 2D6 % Activity remaining (+) |\n",
       "|---|---|---|---|---|---|---|---|\n",
       "| A0307356   | 0.09540653 |  4.6       | 0.09310980 | 2.7        | 0.09540653 | 0.1339678  | 71.2       |\n",
       "| A0307358   | 0.10994430 |  4.2       | 0.10748787 | 2.2        | 0.10994430 | 0.1339678  | 82.1       |\n",
       "| A0307375   | 0.08580762 |  4.7       | 0.08354097 | 1.7        | 0.08580762 | 0.1339678  | 64.1       |\n",
       "| A0307377   | 0.09742425 |  5.3       | 0.09443183 | 0.3        | 0.09742425 | 0.1339678  | 72.7       |\n",
       "| A0307386   | 0.10157407 | 12.2       | 0.10861111 | 3.3        | 0.10157407 | 0.1339678  | 75.8       |\n",
       "| A0307387   | 0.11163025 |  3.6       | 0.11383427 | 1.7        | 0.11163025 | 0.1339678  | 83.3       |\n",
       "\n"
      ],
      "text/plain": [
       "  ID       PAR_avg    Pct_CV PAR_avg_rm_o Pct_CV_rm_o PAR_avg (+)\n",
       "1 A0307356 0.09540653  4.6   0.09310980   2.7         0.09540653 \n",
       "2 A0307358 0.10994430  4.2   0.10748787   2.2         0.10994430 \n",
       "3 A0307375 0.08580762  4.7   0.08354097   1.7         0.08580762 \n",
       "4 A0307377 0.09742425  5.3   0.09443183   0.3         0.09742425 \n",
       "5 A0307386 0.10157407 12.2   0.10861111   3.3         0.10157407 \n",
       "6 A0307387 0.11163025  3.6   0.11383427   1.7         0.11163025 \n",
       "  PAR_avg_DMSO (+) 2D6 % Activity remaining (+)\n",
       "1 0.1339678        71.2                        \n",
       "2 0.1339678        82.1                        \n",
       "3 0.1339678        64.1                        \n",
       "4 0.1339678        72.7                        \n",
       "5 0.1339678        75.8                        \n",
       "6 0.1339678        83.3                        "
      ]
     },
     "metadata": {},
     "output_type": "display_data"
    }
   ],
   "source": [
    "# Calculate average and %CV with or without an outlier\n",
    "Df_CYP2D6_plus <- Rawdata_2D6_plus %>%                                                                   \n",
    "                  group_by(ID) %>%\n",
    "                  summarize(PAR_avg = mean(PAR, na.rm = TRUE),\n",
    "                            Pct_CV = pct_CV(PAR),\n",
    "                            PAR_avg_rm_o = mean.rm.o(PAR),\n",
    "                            Pct_CV_rm_o = pct_CV.rm.o(PAR))\n",
    "\n",
    "# find the row number containing \"DMSO\" in sample name\n",
    "Val_row_num_DMSO <- str_which(Df_CYP2D6_plus$ID, \"DMSO\")                                         \n",
    "\n",
    "# If %CV > cutoff, use the average without outlier; return\"NA\" if %CV is still > cutoff after remove one outlier \n",
    "Df_CYP2D6_plus <- Df_CYP2D6_plus %>%                                                                           \n",
    "    mutate(\"PAR_avg (+)\" = ifelse(Df_CYP2D6_plus$Pct_CV < Val_pct_CV_cutoff, Df_CYP2D6_plus$PAR_avg, \n",
    "                              ifelse(Df_CYP2D6_plus$Pct_CV_rm_o < Val_pct_CV_cutoff, Df_CYP2D6_plus$PAR_avg_rm_o, NA)\n",
    "                                 )\n",
    "          )\n",
    "\n",
    "Df_CYP2D6_plus <- Df_CYP2D6_plus %>% \n",
    "    mutate(\"PAR_avg_DMSO (+)\" = Df_CYP2D6_plus$`PAR_avg (+)`[Val_row_num_DMSO])\n",
    "\n",
    "Df_CYP2D6_plus <- Df_CYP2D6_plus %>% \n",
    "    mutate(\"2D6 % Activity remaining (+)\" = round(Df_CYP2D6_plus$`PAR_avg (+)`/Df_CYP2D6_plus$`PAR_avg_DMSO (+)`*100, 1))\n",
    "\n",
    "head(Df_CYP2D6_plus)"
   ]
  },
  {
   "cell_type": "markdown",
   "metadata": {},
   "source": [
    "# Calculate % activity remaining for 2D6 (-) NADPH samples\n",
    "- Criteria to exclude an outlier in triplicate is set as %CV > 20 in this script (you can change cutoff value if needed); \n",
    "- Script will not return any value if %CV is still > cutoff value after exclude one outlier."
   ]
  },
  {
   "cell_type": "code",
   "execution_count": 24,
   "metadata": {},
   "outputs": [
    {
     "data": {
      "text/html": [
       "<table>\n",
       "<thead><tr><th scope=col>ID</th><th scope=col>PAR_avg</th><th scope=col>Pct_CV</th><th scope=col>PAR_avg_rm_o</th><th scope=col>Pct_CV_rm_o</th><th scope=col>PAR_avg (-)</th><th scope=col>PAR_avg_DMSO (-)</th><th scope=col>2D6 % Activity remaining (-)</th></tr></thead>\n",
       "<tbody>\n",
       "\t<tr><td>A0307356  </td><td>0.09798360</td><td>2.2       </td><td>0.09922540</td><td>0.4       </td><td>0.09798360</td><td>0.1478038 </td><td> 66.3     </td></tr>\n",
       "\t<tr><td>A0307358  </td><td>0.13876090</td><td>2.1       </td><td>0.14043301</td><td>0.7       </td><td>0.13876090</td><td>0.1478038 </td><td> 93.9     </td></tr>\n",
       "\t<tr><td>A0307375  </td><td>0.09682417</td><td>4.1       </td><td>0.09892046</td><td>2.3       </td><td>0.09682417</td><td>0.1478038 </td><td> 65.5     </td></tr>\n",
       "\t<tr><td>A0307377  </td><td>0.12487232</td><td>2.1       </td><td>0.12640422</td><td>0.3       </td><td>0.12487232</td><td>0.1478038 </td><td> 84.5     </td></tr>\n",
       "\t<tr><td>A0307386  </td><td>0.15054395</td><td>1.4       </td><td>0.14945723</td><td>1.0       </td><td>0.15054395</td><td>0.1478038 </td><td>101.9     </td></tr>\n",
       "\t<tr><td>A0307387  </td><td>0.15000714</td><td>2.3       </td><td>0.15181483</td><td>1.4       </td><td>0.15000714</td><td>0.1478038 </td><td>101.5     </td></tr>\n",
       "</tbody>\n",
       "</table>\n"
      ],
      "text/latex": [
       "\\begin{tabular}{r|llllllll}\n",
       " ID & PAR\\_avg & Pct\\_CV & PAR\\_avg\\_rm\\_o & Pct\\_CV\\_rm\\_o & PAR\\_avg (-) & PAR\\_avg\\_DMSO (-) & 2D6 \\% Activity remaining (-)\\\\\n",
       "\\hline\n",
       "\t A0307356   & 0.09798360 & 2.2        & 0.09922540 & 0.4        & 0.09798360 & 0.1478038  &  66.3     \\\\\n",
       "\t A0307358   & 0.13876090 & 2.1        & 0.14043301 & 0.7        & 0.13876090 & 0.1478038  &  93.9     \\\\\n",
       "\t A0307375   & 0.09682417 & 4.1        & 0.09892046 & 2.3        & 0.09682417 & 0.1478038  &  65.5     \\\\\n",
       "\t A0307377   & 0.12487232 & 2.1        & 0.12640422 & 0.3        & 0.12487232 & 0.1478038  &  84.5     \\\\\n",
       "\t A0307386   & 0.15054395 & 1.4        & 0.14945723 & 1.0        & 0.15054395 & 0.1478038  & 101.9     \\\\\n",
       "\t A0307387   & 0.15000714 & 2.3        & 0.15181483 & 1.4        & 0.15000714 & 0.1478038  & 101.5     \\\\\n",
       "\\end{tabular}\n"
      ],
      "text/markdown": [
       "\n",
       "| ID | PAR_avg | Pct_CV | PAR_avg_rm_o | Pct_CV_rm_o | PAR_avg (-) | PAR_avg_DMSO (-) | 2D6 % Activity remaining (-) |\n",
       "|---|---|---|---|---|---|---|---|\n",
       "| A0307356   | 0.09798360 | 2.2        | 0.09922540 | 0.4        | 0.09798360 | 0.1478038  |  66.3      |\n",
       "| A0307358   | 0.13876090 | 2.1        | 0.14043301 | 0.7        | 0.13876090 | 0.1478038  |  93.9      |\n",
       "| A0307375   | 0.09682417 | 4.1        | 0.09892046 | 2.3        | 0.09682417 | 0.1478038  |  65.5      |\n",
       "| A0307377   | 0.12487232 | 2.1        | 0.12640422 | 0.3        | 0.12487232 | 0.1478038  |  84.5      |\n",
       "| A0307386   | 0.15054395 | 1.4        | 0.14945723 | 1.0        | 0.15054395 | 0.1478038  | 101.9      |\n",
       "| A0307387   | 0.15000714 | 2.3        | 0.15181483 | 1.4        | 0.15000714 | 0.1478038  | 101.5      |\n",
       "\n"
      ],
      "text/plain": [
       "  ID       PAR_avg    Pct_CV PAR_avg_rm_o Pct_CV_rm_o PAR_avg (-)\n",
       "1 A0307356 0.09798360 2.2    0.09922540   0.4         0.09798360 \n",
       "2 A0307358 0.13876090 2.1    0.14043301   0.7         0.13876090 \n",
       "3 A0307375 0.09682417 4.1    0.09892046   2.3         0.09682417 \n",
       "4 A0307377 0.12487232 2.1    0.12640422   0.3         0.12487232 \n",
       "5 A0307386 0.15054395 1.4    0.14945723   1.0         0.15054395 \n",
       "6 A0307387 0.15000714 2.3    0.15181483   1.4         0.15000714 \n",
       "  PAR_avg_DMSO (-) 2D6 % Activity remaining (-)\n",
       "1 0.1478038         66.3                       \n",
       "2 0.1478038         93.9                       \n",
       "3 0.1478038         65.5                       \n",
       "4 0.1478038         84.5                       \n",
       "5 0.1478038        101.9                       \n",
       "6 0.1478038        101.5                       "
      ]
     },
     "metadata": {},
     "output_type": "display_data"
    }
   ],
   "source": [
    "Df_CYP2D6_minus <- Rawdata_2D6_minus %>%                                                                   \n",
    "                   group_by(ID) %>%\n",
    "                   summarize(PAR_avg = mean(PAR, na.rm = TRUE),\n",
    "                             Pct_CV = pct_CV(PAR),\n",
    "                             PAR_avg_rm_o = mean.rm.o(PAR),\n",
    "                             Pct_CV_rm_o = pct_CV.rm.o(PAR))\n",
    "\n",
    "# find the row number containing \"DMSO\" in sample name\n",
    "Val_row_num_DMSO <- str_which(Df_CYP2D6_minus$ID, \"DMSO\")                                         \n",
    "\n",
    "# If %CV > cutoff, use the average without outlier; return\"NA\" if %CV is still > cutoff after remove one outlier \n",
    "Df_CYP2D6_minus <- Df_CYP2D6_minus %>%                                                                           \n",
    "    mutate(\"PAR_avg (-)\" = ifelse(Df_CYP2D6_minus$Pct_CV < Val_pct_CV_cutoff, Df_CYP2D6_minus$PAR_avg, \n",
    "                                ifelse(Df_CYP2D6_minus$Pct_CV_rm_o < Val_pct_CV_cutoff, Df_CYP2D6_minus$PAR_avg_rm_o, NA)\n",
    "                               )\n",
    "          )\n",
    "\n",
    "Df_CYP2D6_minus <- Df_CYP2D6_minus %>% \n",
    "    mutate(\"PAR_avg_DMSO (-)\" = Df_CYP2D6_minus$`PAR_avg (-)`[Val_row_num_DMSO])\n",
    "\n",
    "Df_CYP2D6_minus <- Df_CYP2D6_minus %>% \n",
    "    mutate(\"2D6 % Activity remaining (-)\" = round(Df_CYP2D6_minus$`PAR_avg (-)`/Df_CYP2D6_minus$`PAR_avg_DMSO (-)`*100, 1))\n",
    "\n",
    "head(Df_CYP2D6_minus)"
   ]
  },
  {
   "cell_type": "markdown",
   "metadata": {},
   "source": [
    "# Data compilation\n",
    "## Processed data"
   ]
  },
  {
   "cell_type": "code",
   "execution_count": 25,
   "metadata": {},
   "outputs": [
    {
     "data": {
      "text/html": [
       "<table>\n",
       "<thead><tr><th scope=col>ID</th><th scope=col>3A4 % Activity remaining (+)</th><th scope=col>3A4 % Activity remaining (-)</th><th scope=col>3A4 % Activity Loss</th><th scope=col>2C8 % Activity remaining (+)</th><th scope=col>2C8 % Activity remaining (-)</th><th scope=col>2C8 % Activity Loss</th><th scope=col>2C9 % Activity remaining (+)</th><th scope=col>2C9 % Activity remaining (-)</th><th scope=col>2C9 % Activity Loss</th><th scope=col>2D6 % Activity remaining (+)</th><th scope=col>2D6 % Activity remaining (-)</th><th scope=col>2D6 % Activity Loss</th></tr></thead>\n",
       "<tbody>\n",
       "\t<tr><td>A0307356</td><td>66.2    </td><td>73.4    </td><td> 7.2    </td><td>88.6    </td><td>102.6   </td><td>14.0    </td><td>78.9    </td><td>91.0    </td><td>12.1    </td><td>71.2    </td><td> 66.3   </td><td> 0.0    </td></tr>\n",
       "\t<tr><td>A0307358</td><td>77.9    </td><td>88.9    </td><td>11.0    </td><td>81.7    </td><td> 90.3   </td><td> 8.6    </td><td>56.3    </td><td>71.4    </td><td>15.1    </td><td>82.1    </td><td> 93.9   </td><td>11.8    </td></tr>\n",
       "\t<tr><td>A0307375</td><td>49.0    </td><td>57.4    </td><td> 8.4    </td><td>57.7    </td><td> 74.2   </td><td>16.5    </td><td>74.6    </td><td>92.7    </td><td>18.1    </td><td>64.1    </td><td> 65.5   </td><td> 1.4    </td></tr>\n",
       "\t<tr><td>A0307377</td><td>12.2    </td><td>22.4    </td><td>10.2    </td><td>39.5    </td><td> 52.0   </td><td>12.5    </td><td>56.2    </td><td>71.5    </td><td>15.3    </td><td>72.7    </td><td> 84.5   </td><td>11.8    </td></tr>\n",
       "\t<tr><td>A0307386</td><td>27.4    </td><td>55.4    </td><td>28.0    </td><td>46.6    </td><td> 62.5   </td><td>15.9    </td><td>61.4    </td><td>85.7    </td><td>24.3    </td><td>75.8    </td><td>101.9   </td><td>26.1    </td></tr>\n",
       "\t<tr><td>A0307387</td><td>39.1    </td><td>80.9    </td><td>41.8    </td><td>61.1    </td><td> 83.5   </td><td>22.4    </td><td>76.9    </td><td>98.8    </td><td>21.9    </td><td>83.3    </td><td>101.5   </td><td>18.2    </td></tr>\n",
       "</tbody>\n",
       "</table>\n"
      ],
      "text/latex": [
       "\\begin{tabular}{r|lllllllllllll}\n",
       " ID & 3A4 \\% Activity remaining (+) & 3A4 \\% Activity remaining (-) & 3A4 \\% Activity Loss & 2C8 \\% Activity remaining (+) & 2C8 \\% Activity remaining (-) & 2C8 \\% Activity Loss & 2C9 \\% Activity remaining (+) & 2C9 \\% Activity remaining (-) & 2C9 \\% Activity Loss & 2D6 \\% Activity remaining (+) & 2D6 \\% Activity remaining (-) & 2D6 \\% Activity Loss\\\\\n",
       "\\hline\n",
       "\t A0307356 & 66.2     & 73.4     &  7.2     & 88.6     & 102.6    & 14.0     & 78.9     & 91.0     & 12.1     & 71.2     &  66.3    &  0.0    \\\\\n",
       "\t A0307358 & 77.9     & 88.9     & 11.0     & 81.7     &  90.3    &  8.6     & 56.3     & 71.4     & 15.1     & 82.1     &  93.9    & 11.8    \\\\\n",
       "\t A0307375 & 49.0     & 57.4     &  8.4     & 57.7     &  74.2    & 16.5     & 74.6     & 92.7     & 18.1     & 64.1     &  65.5    &  1.4    \\\\\n",
       "\t A0307377 & 12.2     & 22.4     & 10.2     & 39.5     &  52.0    & 12.5     & 56.2     & 71.5     & 15.3     & 72.7     &  84.5    & 11.8    \\\\\n",
       "\t A0307386 & 27.4     & 55.4     & 28.0     & 46.6     &  62.5    & 15.9     & 61.4     & 85.7     & 24.3     & 75.8     & 101.9    & 26.1    \\\\\n",
       "\t A0307387 & 39.1     & 80.9     & 41.8     & 61.1     &  83.5    & 22.4     & 76.9     & 98.8     & 21.9     & 83.3     & 101.5    & 18.2    \\\\\n",
       "\\end{tabular}\n"
      ],
      "text/markdown": [
       "\n",
       "| ID | 3A4 % Activity remaining (+) | 3A4 % Activity remaining (-) | 3A4 % Activity Loss | 2C8 % Activity remaining (+) | 2C8 % Activity remaining (-) | 2C8 % Activity Loss | 2C9 % Activity remaining (+) | 2C9 % Activity remaining (-) | 2C9 % Activity Loss | 2D6 % Activity remaining (+) | 2D6 % Activity remaining (-) | 2D6 % Activity Loss |\n",
       "|---|---|---|---|---|---|---|---|---|---|---|---|---|\n",
       "| A0307356 | 66.2     | 73.4     |  7.2     | 88.6     | 102.6    | 14.0     | 78.9     | 91.0     | 12.1     | 71.2     |  66.3    |  0.0     |\n",
       "| A0307358 | 77.9     | 88.9     | 11.0     | 81.7     |  90.3    |  8.6     | 56.3     | 71.4     | 15.1     | 82.1     |  93.9    | 11.8     |\n",
       "| A0307375 | 49.0     | 57.4     |  8.4     | 57.7     |  74.2    | 16.5     | 74.6     | 92.7     | 18.1     | 64.1     |  65.5    |  1.4     |\n",
       "| A0307377 | 12.2     | 22.4     | 10.2     | 39.5     |  52.0    | 12.5     | 56.2     | 71.5     | 15.3     | 72.7     |  84.5    | 11.8     |\n",
       "| A0307386 | 27.4     | 55.4     | 28.0     | 46.6     |  62.5    | 15.9     | 61.4     | 85.7     | 24.3     | 75.8     | 101.9    | 26.1     |\n",
       "| A0307387 | 39.1     | 80.9     | 41.8     | 61.1     |  83.5    | 22.4     | 76.9     | 98.8     | 21.9     | 83.3     | 101.5    | 18.2     |\n",
       "\n"
      ],
      "text/plain": [
       "  ID       3A4 % Activity remaining (+) 3A4 % Activity remaining (-)\n",
       "1 A0307356 66.2                         73.4                        \n",
       "2 A0307358 77.9                         88.9                        \n",
       "3 A0307375 49.0                         57.4                        \n",
       "4 A0307377 12.2                         22.4                        \n",
       "5 A0307386 27.4                         55.4                        \n",
       "6 A0307387 39.1                         80.9                        \n",
       "  3A4 % Activity Loss 2C8 % Activity remaining (+) 2C8 % Activity remaining (-)\n",
       "1  7.2                88.6                         102.6                       \n",
       "2 11.0                81.7                          90.3                       \n",
       "3  8.4                57.7                          74.2                       \n",
       "4 10.2                39.5                          52.0                       \n",
       "5 28.0                46.6                          62.5                       \n",
       "6 41.8                61.1                          83.5                       \n",
       "  2C8 % Activity Loss 2C9 % Activity remaining (+) 2C9 % Activity remaining (-)\n",
       "1 14.0                78.9                         91.0                        \n",
       "2  8.6                56.3                         71.4                        \n",
       "3 16.5                74.6                         92.7                        \n",
       "4 12.5                56.2                         71.5                        \n",
       "5 15.9                61.4                         85.7                        \n",
       "6 22.4                76.9                         98.8                        \n",
       "  2C9 % Activity Loss 2D6 % Activity remaining (+) 2D6 % Activity remaining (-)\n",
       "1 12.1                71.2                          66.3                       \n",
       "2 15.1                82.1                          93.9                       \n",
       "3 18.1                64.1                          65.5                       \n",
       "4 15.3                72.7                          84.5                       \n",
       "5 24.3                75.8                         101.9                       \n",
       "6 21.9                83.3                         101.5                       \n",
       "  2D6 % Activity Loss\n",
       "1  0.0               \n",
       "2 11.8               \n",
       "3  1.4               \n",
       "4 11.8               \n",
       "5 26.1               \n",
       "6 18.2               "
      ]
     },
     "metadata": {},
     "output_type": "display_data"
    }
   ],
   "source": [
    "Processed_data <- do.call(\"cbind\", list(Df_CYP3A4_plus[,c(1,8)], Df_CYP3A4_minus[8], Df_CYP2C8_plus[8], Df_CYP2C8_minus[8], \n",
    "                                       Df_CYP2C9_plus[8], Df_CYP2C9_minus[8], Df_CYP2D6_plus[8], Df_CYP2D6_minus[8]))\n",
    "\n",
    "Processed_data <- Processed_data %>% \n",
    "    mutate(\"3A4 % Activity Loss\" = `3A4 % Activity remaining (-)` - `3A4 % Activity remaining (+)`,\n",
    "           \"2C8 % Activity Loss\" = `2C8 % Activity remaining (-)` - `2C8 % Activity remaining (+)`,\n",
    "           \"2C9 % Activity Loss\" = `2C9 % Activity remaining (-)` - `2C9 % Activity remaining (+)`,\n",
    "           \"2D6 % Activity Loss\" = `2D6 % Activity remaining (-)` - `2D6 % Activity remaining (+)`)\n",
    "\n",
    "Processed_data$`3A4 % Activity Loss` <- pmax(Processed_data$`3A4 % Activity Loss`,0)\n",
    "Processed_data$`2C8 % Activity Loss` <- pmax(Processed_data$`2C8 % Activity Loss`,0)\n",
    "Processed_data$`2C9 % Activity Loss` <- pmax(Processed_data$`2C9 % Activity Loss`,0)\n",
    "Processed_data$`2D6 % Activity Loss` <- pmax(Processed_data$`2D6 % Activity Loss`,0)\n",
    "\n",
    "Processed_data <- Processed_data[, c(1:3, 10, 4:5, 11, 6:7, 12, 8:9, 13)]\n",
    "\n",
    "head(Processed_data)"
   ]
  },
  {
   "cell_type": "markdown",
   "metadata": {},
   "source": [
    "## Summary file"
   ]
  },
  {
   "cell_type": "code",
   "execution_count": 26,
   "metadata": {},
   "outputs": [
    {
     "data": {
      "text/html": [
       "<table>\n",
       "<thead><tr><th scope=col>ID</th><th scope=col>Batch</th><th scope=col>Project</th><th scope=col>Structure</th><th scope=col>Concentration (uM)</th><th scope=col>Pre-inc time (min)</th><th scope=col>3A4 % Activity remaining (+)</th><th scope=col>3A4 % Activity remaining (-)</th><th scope=col>3A4 % Activity Loss</th><th scope=col>2C8 % Activity remaining (+)</th><th scope=col>2C8 % Activity remaining (-)</th><th scope=col>2C8 % Activity Loss</th><th scope=col>2C9 % Activity remaining (+)</th><th scope=col>2C9 % Activity remaining (-)</th><th scope=col>2C9 % Activity Loss</th><th scope=col>2D6 % Activity remaining (+)</th><th scope=col>2D6 % Activity remaining (-)</th><th scope=col>2D6 % Activity Loss</th></tr></thead>\n",
       "<tbody>\n",
       "\t<tr><td>DMSO    </td><td>NA      </td><td>NA      </td><td>        </td><td>NA      </td><td>30      </td><td>100.0   </td><td>100.0   </td><td> 0.0    </td><td>100.0   </td><td>100.0   </td><td> 0.0    </td><td>100.0   </td><td>100.0   </td><td> 0.0    </td><td>100.0   </td><td>100.0   </td><td> 0.0    </td></tr>\n",
       "\t<tr><td>ABT     </td><td>NA      </td><td>PosCtrl </td><td>        </td><td>500     </td><td>30      </td><td>  0.8   </td><td> 20.5   </td><td>19.7    </td><td>  7.0   </td><td> 83.2   </td><td>76.2    </td><td> 54.6   </td><td>111.1   </td><td>56.5    </td><td> 14.5   </td><td>113.4   </td><td>98.9    </td></tr>\n",
       "\t<tr><td>A0307356</td><td>1       </td><td>NA      </td><td>        </td><td>10      </td><td>30      </td><td> 66.2   </td><td> 73.4   </td><td> 7.2    </td><td> 88.6   </td><td>102.6   </td><td>14.0    </td><td> 78.9   </td><td> 91.0   </td><td>12.1    </td><td> 71.2   </td><td> 66.3   </td><td> 0.0    </td></tr>\n",
       "\t<tr><td>A0307358</td><td>1       </td><td>NA      </td><td>        </td><td>10      </td><td>30      </td><td> 77.9   </td><td> 88.9   </td><td>11.0    </td><td> 81.7   </td><td> 90.3   </td><td> 8.6    </td><td> 56.3   </td><td> 71.4   </td><td>15.1    </td><td> 82.1   </td><td> 93.9   </td><td>11.8    </td></tr>\n",
       "\t<tr><td>A0307375</td><td>1       </td><td>NA      </td><td>        </td><td>10      </td><td>30      </td><td> 49.0   </td><td> 57.4   </td><td> 8.4    </td><td> 57.7   </td><td> 74.2   </td><td>16.5    </td><td> 74.6   </td><td> 92.7   </td><td>18.1    </td><td> 64.1   </td><td> 65.5   </td><td> 1.4    </td></tr>\n",
       "\t<tr><td>A0307377</td><td>1       </td><td>NA      </td><td>        </td><td>10      </td><td>30      </td><td> 12.2   </td><td> 22.4   </td><td>10.2    </td><td> 39.5   </td><td> 52.0   </td><td>12.5    </td><td> 56.2   </td><td> 71.5   </td><td>15.3    </td><td> 72.7   </td><td> 84.5   </td><td>11.8    </td></tr>\n",
       "</tbody>\n",
       "</table>\n"
      ],
      "text/latex": [
       "\\begin{tabular}{r|llllllllllllllllll}\n",
       " ID & Batch & Project & Structure & Concentration (uM) & Pre-inc time (min) & 3A4 \\% Activity remaining (+) & 3A4 \\% Activity remaining (-) & 3A4 \\% Activity Loss & 2C8 \\% Activity remaining (+) & 2C8 \\% Activity remaining (-) & 2C8 \\% Activity Loss & 2C9 \\% Activity remaining (+) & 2C9 \\% Activity remaining (-) & 2C9 \\% Activity Loss & 2D6 \\% Activity remaining (+) & 2D6 \\% Activity remaining (-) & 2D6 \\% Activity Loss\\\\\n",
       "\\hline\n",
       "\t DMSO     & NA       & NA       &          & NA       & 30       & 100.0    & 100.0    &  0.0     & 100.0    & 100.0    &  0.0     & 100.0    & 100.0    &  0.0     & 100.0    & 100.0    &  0.0    \\\\\n",
       "\t ABT      & NA       & PosCtrl  &          & 500      & 30       &   0.8    &  20.5    & 19.7     &   7.0    &  83.2    & 76.2     &  54.6    & 111.1    & 56.5     &  14.5    & 113.4    & 98.9    \\\\\n",
       "\t A0307356 & 1        & NA       &          & 10       & 30       &  66.2    &  73.4    &  7.2     &  88.6    & 102.6    & 14.0     &  78.9    &  91.0    & 12.1     &  71.2    &  66.3    &  0.0    \\\\\n",
       "\t A0307358 & 1        & NA       &          & 10       & 30       &  77.9    &  88.9    & 11.0     &  81.7    &  90.3    &  8.6     &  56.3    &  71.4    & 15.1     &  82.1    &  93.9    & 11.8    \\\\\n",
       "\t A0307375 & 1        & NA       &          & 10       & 30       &  49.0    &  57.4    &  8.4     &  57.7    &  74.2    & 16.5     &  74.6    &  92.7    & 18.1     &  64.1    &  65.5    &  1.4    \\\\\n",
       "\t A0307377 & 1        & NA       &          & 10       & 30       &  12.2    &  22.4    & 10.2     &  39.5    &  52.0    & 12.5     &  56.2    &  71.5    & 15.3     &  72.7    &  84.5    & 11.8    \\\\\n",
       "\\end{tabular}\n"
      ],
      "text/markdown": [
       "\n",
       "| ID | Batch | Project | Structure | Concentration (uM) | Pre-inc time (min) | 3A4 % Activity remaining (+) | 3A4 % Activity remaining (-) | 3A4 % Activity Loss | 2C8 % Activity remaining (+) | 2C8 % Activity remaining (-) | 2C8 % Activity Loss | 2C9 % Activity remaining (+) | 2C9 % Activity remaining (-) | 2C9 % Activity Loss | 2D6 % Activity remaining (+) | 2D6 % Activity remaining (-) | 2D6 % Activity Loss |\n",
       "|---|---|---|---|---|---|---|---|---|---|---|---|---|---|---|---|---|---|\n",
       "| DMSO     | NA       | NA       |          | NA       | 30       | 100.0    | 100.0    |  0.0     | 100.0    | 100.0    |  0.0     | 100.0    | 100.0    |  0.0     | 100.0    | 100.0    |  0.0     |\n",
       "| ABT      | NA       | PosCtrl  |          | 500      | 30       |   0.8    |  20.5    | 19.7     |   7.0    |  83.2    | 76.2     |  54.6    | 111.1    | 56.5     |  14.5    | 113.4    | 98.9     |\n",
       "| A0307356 | 1        | NA       |          | 10       | 30       |  66.2    |  73.4    |  7.2     |  88.6    | 102.6    | 14.0     |  78.9    |  91.0    | 12.1     |  71.2    |  66.3    |  0.0     |\n",
       "| A0307358 | 1        | NA       |          | 10       | 30       |  77.9    |  88.9    | 11.0     |  81.7    |  90.3    |  8.6     |  56.3    |  71.4    | 15.1     |  82.1    |  93.9    | 11.8     |\n",
       "| A0307375 | 1        | NA       |          | 10       | 30       |  49.0    |  57.4    |  8.4     |  57.7    |  74.2    | 16.5     |  74.6    |  92.7    | 18.1     |  64.1    |  65.5    |  1.4     |\n",
       "| A0307377 | 1        | NA       |          | 10       | 30       |  12.2    |  22.4    | 10.2     |  39.5    |  52.0    | 12.5     |  56.2    |  71.5    | 15.3     |  72.7    |  84.5    | 11.8     |\n",
       "\n"
      ],
      "text/plain": [
       "  ID       Batch Project Structure Concentration (uM) Pre-inc time (min)\n",
       "1 DMSO     NA    NA                NA                 30                \n",
       "2 ABT      NA    PosCtrl           500                30                \n",
       "3 A0307356 1     NA                10                 30                \n",
       "4 A0307358 1     NA                10                 30                \n",
       "5 A0307375 1     NA                10                 30                \n",
       "6 A0307377 1     NA                10                 30                \n",
       "  3A4 % Activity remaining (+) 3A4 % Activity remaining (-) 3A4 % Activity Loss\n",
       "1 100.0                        100.0                         0.0               \n",
       "2   0.8                         20.5                        19.7               \n",
       "3  66.2                         73.4                         7.2               \n",
       "4  77.9                         88.9                        11.0               \n",
       "5  49.0                         57.4                         8.4               \n",
       "6  12.2                         22.4                        10.2               \n",
       "  2C8 % Activity remaining (+) 2C8 % Activity remaining (-) 2C8 % Activity Loss\n",
       "1 100.0                        100.0                         0.0               \n",
       "2   7.0                         83.2                        76.2               \n",
       "3  88.6                        102.6                        14.0               \n",
       "4  81.7                         90.3                         8.6               \n",
       "5  57.7                         74.2                        16.5               \n",
       "6  39.5                         52.0                        12.5               \n",
       "  2C9 % Activity remaining (+) 2C9 % Activity remaining (-) 2C9 % Activity Loss\n",
       "1 100.0                        100.0                         0.0               \n",
       "2  54.6                        111.1                        56.5               \n",
       "3  78.9                         91.0                        12.1               \n",
       "4  56.3                         71.4                        15.1               \n",
       "5  74.6                         92.7                        18.1               \n",
       "6  56.2                         71.5                        15.3               \n",
       "  2D6 % Activity remaining (+) 2D6 % Activity remaining (-) 2D6 % Activity Loss\n",
       "1 100.0                        100.0                         0.0               \n",
       "2  14.5                        113.4                        98.9               \n",
       "3  71.2                         66.3                         0.0               \n",
       "4  82.1                         93.9                        11.8               \n",
       "5  64.1                         65.5                         1.4               \n",
       "6  72.7                         84.5                        11.8               "
      ]
     },
     "metadata": {},
     "output_type": "display_data"
    }
   ],
   "source": [
    "Data_Summary <- left_join(Df_Cpd_List, Processed_data, \"ID\") \n",
    "head(Data_Summary)"
   ]
  },
  {
   "cell_type": "markdown",
   "metadata": {},
   "source": [
    "## CDD upload file"
   ]
  },
  {
   "cell_type": "code",
   "execution_count": 27,
   "metadata": {
    "scrolled": true
   },
   "outputs": [
    {
     "data": {
      "text/html": [
       "<table>\n",
       "<thead><tr><th scope=col>Molecule_Name</th><th scope=col>Batch</th><th scope=col>Enzyme (eg 3A4, 2D6, 1A2)</th><th scope=col>Concentration (µM)</th><th scope=col>Pre_Incubation_Time (min)</th><th scope=col>Pct_Plus_NADPH</th><th scope=col>Pct_Minus_NADPH</th><th scope=col>Pct_Activity_Loss</th><th scope=col>Comment</th></tr></thead>\n",
       "<tbody>\n",
       "\t<tr><td>A0307356</td><td>1       </td><td>3A4     </td><td>        </td><td>30      </td><td>66.2    </td><td>73.4    </td><td> 7.2    </td><td>        </td></tr>\n",
       "\t<tr><td>A0307358</td><td>1       </td><td>3A4     </td><td>        </td><td>30      </td><td>77.9    </td><td>88.9    </td><td>11.0    </td><td>        </td></tr>\n",
       "\t<tr><td>A0307375</td><td>1       </td><td>3A4     </td><td>        </td><td>30      </td><td>49.0    </td><td>57.4    </td><td> 8.4    </td><td>        </td></tr>\n",
       "\t<tr><td>A0307377</td><td>1       </td><td>3A4     </td><td>        </td><td>30      </td><td>12.2    </td><td>22.4    </td><td>10.2    </td><td>        </td></tr>\n",
       "\t<tr><td>A0307386</td><td>1       </td><td>3A4     </td><td>        </td><td>30      </td><td>27.4    </td><td>55.4    </td><td>28.0    </td><td>        </td></tr>\n",
       "\t<tr><td>A0307387</td><td>1       </td><td>3A4     </td><td>        </td><td>30      </td><td>39.1    </td><td>80.9    </td><td>41.8    </td><td>        </td></tr>\n",
       "</tbody>\n",
       "</table>\n"
      ],
      "text/latex": [
       "\\begin{tabular}{r|lllllllll}\n",
       " Molecule\\_Name & Batch & Enzyme (eg 3A4, 2D6, 1A2) & Concentration (µM) & Pre\\_Incubation\\_Time (min) & Pct\\_Plus\\_NADPH & Pct\\_Minus\\_NADPH & Pct\\_Activity\\_Loss & Comment\\\\\n",
       "\\hline\n",
       "\t A0307356 & 1        & 3A4      &          & 30       & 66.2     & 73.4     &  7.2     &         \\\\\n",
       "\t A0307358 & 1        & 3A4      &          & 30       & 77.9     & 88.9     & 11.0     &         \\\\\n",
       "\t A0307375 & 1        & 3A4      &          & 30       & 49.0     & 57.4     &  8.4     &         \\\\\n",
       "\t A0307377 & 1        & 3A4      &          & 30       & 12.2     & 22.4     & 10.2     &         \\\\\n",
       "\t A0307386 & 1        & 3A4      &          & 30       & 27.4     & 55.4     & 28.0     &         \\\\\n",
       "\t A0307387 & 1        & 3A4      &          & 30       & 39.1     & 80.9     & 41.8     &         \\\\\n",
       "\\end{tabular}\n"
      ],
      "text/markdown": [
       "\n",
       "| Molecule_Name | Batch | Enzyme (eg 3A4, 2D6, 1A2) | Concentration (µM) | Pre_Incubation_Time (min) | Pct_Plus_NADPH | Pct_Minus_NADPH | Pct_Activity_Loss | Comment |\n",
       "|---|---|---|---|---|---|---|---|---|\n",
       "| A0307356 | 1        | 3A4      |          | 30       | 66.2     | 73.4     |  7.2     |          |\n",
       "| A0307358 | 1        | 3A4      |          | 30       | 77.9     | 88.9     | 11.0     |          |\n",
       "| A0307375 | 1        | 3A4      |          | 30       | 49.0     | 57.4     |  8.4     |          |\n",
       "| A0307377 | 1        | 3A4      |          | 30       | 12.2     | 22.4     | 10.2     |          |\n",
       "| A0307386 | 1        | 3A4      |          | 30       | 27.4     | 55.4     | 28.0     |          |\n",
       "| A0307387 | 1        | 3A4      |          | 30       | 39.1     | 80.9     | 41.8     |          |\n",
       "\n"
      ],
      "text/plain": [
       "  Molecule_Name Batch Enzyme (eg 3A4, 2D6, 1A2) Concentration (µM)\n",
       "1 A0307356      1     3A4                                         \n",
       "2 A0307358      1     3A4                                         \n",
       "3 A0307375      1     3A4                                         \n",
       "4 A0307377      1     3A4                                         \n",
       "5 A0307386      1     3A4                                         \n",
       "6 A0307387      1     3A4                                         \n",
       "  Pre_Incubation_Time (min) Pct_Plus_NADPH Pct_Minus_NADPH Pct_Activity_Loss\n",
       "1 30                        66.2           73.4             7.2             \n",
       "2 30                        77.9           88.9            11.0             \n",
       "3 30                        49.0           57.4             8.4             \n",
       "4 30                        12.2           22.4            10.2             \n",
       "5 30                        27.4           55.4            28.0             \n",
       "6 30                        39.1           80.9            41.8             \n",
       "  Comment\n",
       "1        \n",
       "2        \n",
       "3        \n",
       "4        \n",
       "5        \n",
       "6        "
      ]
     },
     "metadata": {},
     "output_type": "display_data"
    }
   ],
   "source": [
    "Num_cpd <- nrow(Df_CYP3A4_plus)\n",
    "CDD_upload_3A4 <- left_join(Df_Cpd_List[3:Num_cpd, c(1:2,4,6)], Processed_data[, c(1:4)], \"ID\")\n",
    "CDD_upload_2C8 <- left_join(Df_Cpd_List[3:Num_cpd, c(1:2,4,6)], Processed_data[, c(1,5:7)], \"ID\")\n",
    "CDD_upload_2C9 <- left_join(Df_Cpd_List[3:Num_cpd, c(1:2,4,6)], Processed_data[, c(1,8:10)], \"ID\")\n",
    "CDD_upload_2D6 <- left_join(Df_Cpd_List[3:Num_cpd, c(1:2,4,6)], Processed_data[, c(1,11:13)], \"ID\")\n",
    "\n",
    "colnames(CDD_upload_3A4) <- c(\"Molecule_Name\", \"Batch\", \"Concentration (µM)\", \"Pre_Incubation_Time (min)\", \"Pct_Plus_NADPH\", \"Pct_Minus_NADPH\", \"Pct_Activity_Loss\")\n",
    "colnames(CDD_upload_2C8) <- c(\"Molecule_Name\", \"Batch\", \"Concentration (µM)\", \"Pre_Incubation_Time (min)\", \"Pct_Plus_NADPH\", \"Pct_Minus_NADPH\", \"Pct_Activity_Loss\")\n",
    "colnames(CDD_upload_2C9) <- c(\"Molecule_Name\", \"Batch\", \"Concentration (µM)\", \"Pre_Incubation_Time (min)\", \"Pct_Plus_NADPH\", \"Pct_Minus_NADPH\", \"Pct_Activity_Loss\")\n",
    "colnames(CDD_upload_2D6) <- c(\"Molecule_Name\", \"Batch\", \"Concentration (µM)\", \"Pre_Incubation_Time (min)\", \"Pct_Plus_NADPH\", \"Pct_Minus_NADPH\", \"Pct_Activity_Loss\")\n",
    "\n",
    "CDD_upload_all <- bind_rows(CDD_upload_3A4, CDD_upload_2C8)\n",
    "CDD_upload_all <- bind_rows(CDD_upload_all, CDD_upload_2C9)\n",
    "CDD_upload_all <- bind_rows(CDD_upload_all, CDD_upload_2D6)\n",
    "CDD_upload_all <- mutate(CDD_upload_all, \n",
    "                         \"Enzyme (eg 3A4, 2D6, 1A2)\" = rep(c(\"3A4\", \"2C8\", \"2C9\", \"2D6\"), each = Num_cpd - 2),\n",
    "                         \"Comment\" = \"\")\n",
    "CDD_upload_all <- CDD_upload_all[ ,c(1:2, 8, 3:7, 9)]\n",
    "\n",
    "head(CDD_upload_all)"
   ]
  },
  {
   "cell_type": "markdown",
   "metadata": {},
   "source": [
    "# Export to excel files\n",
    "- Check “Processed data” file, and if needed, amend cut-off value of %CV (variable “Val_pct_CV_cutoff”), and rerun the script;\n",
    "- If you are happy with the results, move the two exported excel files and raw data file into your desired directory."
   ]
  },
  {
   "cell_type": "code",
   "execution_count": 28,
   "metadata": {},
   "outputs": [],
   "source": [
    "# Get the current date to attach to the file name\n",
    "Val_current_date <- Sys.Date()                                                                                \n",
    "\n",
    "List_Summary <- list(\"Summary\" = Data_Summary, \n",
    "                     \"3A4 (+)NADPH\" = Df_CYP3A4_plus,\n",
    "                     \"3A4 (-)NADPH\" = Df_CYP3A4_minus,\n",
    "                     \"2C8 (+)NADPH\" = Df_CYP2C8_plus,\n",
    "                     \"2C8 (-)NADPH\" = Df_CYP2C8_minus,\n",
    "                     \"2C9 (+)NADPH\" = Df_CYP2C9_plus,\n",
    "                     \"2C9 (-)NADPH\" = Df_CYP2C9_minus,\n",
    "                     \"2D6 (+)NADPH\" = Df_CYP2D6_plus,\n",
    "                     \"2D6 (-)NADPH\" = Df_CYP2D6_minus)\n",
    "\n",
    "# Export data for summary to an excel file\n",
    "write_xlsx(List_Summary,                                                                                      \n",
    "           paste(Val_current_date, \" CYP TDI 30min assay - 3A4 2C8 2C9 2D6 - Processed data\", \".xlsx\", sep = \"\"))  \n",
    "\n",
    "# Export data for summary to an excel file\n",
    "List_CDD_upload <- list(\"DatabaseResults\" = CDD_upload_all)\n",
    "write_xlsx(List_CDD_upload,                                                                                   \n",
    "           paste(Val_current_date, \" CYP TDI 30min assay - 3A4 2C8 2C9 2D6 - CDD upload\", \".xlsx\", sep = \"\"))  "
   ]
  },
  {
   "cell_type": "markdown",
   "metadata": {},
   "source": [
    "# A little more work to do after running the script:\n",
    "### Copy and paste process data summary into template, and add chemical structure\n",
    "- Template file: R:\\DMPK\\1_In vitro\\CYP450\\TDI\\2020-xx-xx CYP TDI 30min assay - 3A4 2C8 2C9 2D6 - Summary.xlsx.\n",
    "\n",
    "### Open “CDD upload file” and check if anything needs to be deleted before upload;\n",
    "- The script is designed to bind data of all compounds in compounds list except one positive control and DMSO.\n",
    "\n",
    "### Send out the summary, upload on CDD, and you are all set!"
   ]
  }
 ],
 "metadata": {
  "kernelspec": {
   "display_name": "R",
   "language": "R",
   "name": "ir"
  },
  "language_info": {
   "codemirror_mode": "r",
   "file_extension": ".r",
   "mimetype": "text/x-r-source",
   "name": "R",
   "pygments_lexer": "r",
   "version": "3.6.1"
  }
 },
 "nbformat": 4,
 "nbformat_minor": 4
}
